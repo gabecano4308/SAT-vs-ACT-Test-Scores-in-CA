{
 "cells": [
  {
   "cell_type": "markdown",
   "metadata": {},
   "source": [
    "<img src=\"http://imgur.com/1ZcRyrc.png\" style=\"float: left; margin: 20px; height: 55px\">\n",
    "\n",
    "# Project 1: Standardized Test Analysis"
   ]
  },
  {
   "cell_type": "markdown",
   "metadata": {},
   "source": [
    "--- \n",
    "# Part 1\n",
    "\n",
    "Part 1 requires knowledge of basic Python.\n",
    "\n",
    "---"
   ]
  },
  {
   "cell_type": "markdown",
   "metadata": {},
   "source": [
    "## Problem Statement"
   ]
  },
  {
   "cell_type": "markdown",
   "metadata": {},
   "source": [
    "Every year, high schools in California allot considerable resources to improve the standardized test scores of their students [(source)](https://www.theatlantic.com/education/archive/2015/06/should-the-sat-be-part-of-school/395417/), since those scores play a significant role in college admission and curriculum development [(source)](https://global.act.org/content/global/en/products-and-services/the-act-non-us/scores/how-schools-use-the-act.html). This project analyzes participation rates and benchmark achievement averages for the SAT and ACT from schools across California to recommend whether the state should invest more funding on SAT or ACT programs."
   ]
  },
  {
   "cell_type": "markdown",
   "metadata": {},
   "source": [
    "### Contents:\n",
    "- [Background](#Background)\n",
    "- [Data Import & Cleaning](#Data-Import-and-Cleaning)\n",
    "- [Exploratory Data Analysis](#Exploratory-Data-Analysis)\n",
    "- [Data Visualization](#Visualize-the-Data)\n",
    "- [Conclusions and Recommendations](#Conclusions-and-Recommendations)"
   ]
  },
  {
   "cell_type": "markdown",
   "metadata": {},
   "source": [
    "## Background"
   ]
  },
  {
   "cell_type": "markdown",
   "metadata": {},
   "source": [
    "The SAT and ACT are standardized tests that many colleges and universities in the United States require for their admissions process. This score is used along with other materials such as grade point average (GPA) and essay responses to determine whether or not a potential student will be accepted to the university.\n",
    "\n",
    "The SAT has two sections of the test: Evidence-Based Reading and Writing and Math ([*source*](https://www.princetonreview.com/college/sat-sections)). The ACT has 4 sections: English, Mathematics, Reading, and Science, with an additional optional writing section ([*source*](https://www.act.org/content/act/en/products-and-services/the-act/scores/understanding-your-scores.html)). They have different score ranges, which you can read more about on their websites or additional outside sources (a quick Google search will help you understand the scores for each test):\n",
    "* [SAT](https://collegereadiness.collegeboard.org/sat)\n",
    "* [ACT](https://www.act.org/content/act/en.html)\n",
    "\n",
    "Standardized tests have long been a controversial topic for students, administrators, and legislators. Since the 1940's, an increasing number of colleges have been using scores from sudents' performances on tests like the SAT and the ACT as a measure for college readiness and aptitude ([*source*](https://www.minotdailynews.com/news/local-news/2017/04/a-brief-history-of-the-sat-and-act/)). Supporters of these tests argue that these scores can be used as an objective measure to determine college admittance. Opponents of these tests claim that these tests are not accurate measures of students potential or ability and serve as an inequitable barrier to entry. Lately, more and more schools are opting to drop the SAT/ACT requirement for their Fall 2021 applications ([*read more about this here*](https://www.cnn.com/2020/04/14/us/coronavirus-colleges-sat-act-test-trnd/index.html))."
   ]
  },
  {
   "cell_type": "markdown",
   "metadata": {},
   "source": [
    "### Datasets Used for Analysis:\n",
    "* [`sat_2019_ca.csv`](./data/sat_2019_ca.csv): 2019 SAT Scores in California by School\n",
    "* [`act_2019.csv`](./data/act_2019_ca.csv): 2019 ACT Scores in California by School"
   ]
  },
  {
   "cell_type": "markdown",
   "metadata": {},
   "source": [
    "### Outside Research"
   ]
  },
  {
   "cell_type": "markdown",
   "metadata": {},
   "source": [
    "Certain colleges and universities, including UC schools, are taking away the SAT/ACT requirements for their applications due in part to the belief that the tests unfairly discriminate against students of lower socio-economic status[(source)](https://www.insidehighered.com/admissions/article/2020/11/02/appeals-court-upholds-ruling-barring-use-sat-and-act-u-california). However, there are still various colleges in the United States that require or at least recommend inclusion of SAT or ACT scores in a student's application [(source)](https://www.insidehighered.com/admissions/article/2020/11/02/appeals-court-upholds-ruling-barring-use-sat-and-act-u-california)."
   ]
  },
  {
   "cell_type": "markdown",
   "metadata": {},
   "source": [
    "### Coding Challenges\n",
    "\n",
    "1. Manually calculate mean:\n",
    "\n",
    "    Write a function that takes in values and returns the mean of the values. Create a list of numbers that you test on your function to check to make sure your function works!\n",
    "    \n",
    "    *Note*: Do not use any mean methods built-in to any Python libraries to do this! This should be done without importing any additional libraries."
   ]
  },
  {
   "cell_type": "code",
   "execution_count": 88,
   "metadata": {},
   "outputs": [
    {
     "data": {
      "text/plain": [
       "8.0"
      ]
     },
     "execution_count": 88,
     "metadata": {},
     "output_type": "execute_result"
    }
   ],
   "source": [
    "# Code:\n",
    "def get_mean(num_list):\n",
    "    num = 0\n",
    "    list_length = len(num_list)\n",
    "    for i in num_list:\n",
    "        num += i\n",
    "    return num / list_length\n",
    "\n",
    "get_mean([2, 10, 12])"
   ]
  },
  {
   "cell_type": "markdown",
   "metadata": {},
   "source": [
    "2. Manually calculate standard deviation:\n",
    "\n",
    "    The formula for standard deviation is below:\n",
    "\n",
    "    $$\\sigma = \\sqrt{\\frac{1}{n}\\sum_{i=1}^n(x_i - \\mu)^2}$$\n",
    "\n",
    "    Where $x_i$ represents each value in the dataset, $\\mu$ represents the mean of all values in the dataset and $n$ represents the number of values in the dataset.\n",
    "\n",
    "    Write a function that takes in values and returns the standard deviation of the values using the formula above. Hint: use the function you wrote above to calculate the mean! Use the list of numbers you created above to test on your function.\n",
    "    \n",
    "    *Note*: Do not use any standard deviation methods built-in to any Python libraries to do this! This should be done without importing any additional libraries."
   ]
  },
  {
   "cell_type": "code",
   "execution_count": 89,
   "metadata": {},
   "outputs": [
    {
     "data": {
      "text/plain": [
       "4.320493798938574"
      ]
     },
     "execution_count": 89,
     "metadata": {},
     "output_type": "execute_result"
    }
   ],
   "source": [
    "# Code:\n",
    "def get_std(num_list):\n",
    "    n = len(num_list)\n",
    "    num = 0\n",
    "    mean = get_mean(num_list)\n",
    "    for i in num_list:\n",
    "        num += ((i - mean) ** 2)\n",
    "    divided_num = num / n\n",
    "    return divided_num ** 0.5\n",
    "\n",
    "get_std([2, 10, 12])"
   ]
  },
  {
   "cell_type": "markdown",
   "metadata": {},
   "source": [
    "3. Data cleaning function:\n",
    "    \n",
    "    Write a function that takes in a string that is a number and a percent symbol (ex. '50%', '30.5%', etc.) and converts this to a float that is the decimal approximation of the percent. For example, inputting '50%' in your function should return 0.5, '30.5%' should return 0.305, etc. Make sure to test your function to make sure it works!\n",
    "\n",
    "You will use these functions later on in the project!"
   ]
  },
  {
   "cell_type": "code",
   "execution_count": 90,
   "metadata": {},
   "outputs": [
    {
     "data": {
      "text/plain": [
       "0.305"
      ]
     },
     "execution_count": 90,
     "metadata": {},
     "output_type": "execute_result"
    }
   ],
   "source": [
    "# Code:\n",
    "def percent_to_float(string):\n",
    "    no_percent = string.strip('%')\n",
    "    return float(no_percent) / 100\n",
    "percent_to_float('30.5%')"
   ]
  },
  {
   "cell_type": "markdown",
   "metadata": {},
   "source": [
    "--- \n",
    "# Part 2\n",
    "\n",
    "Part 2 requires knowledge of Pandas, EDA, data cleaning, and data visualization.\n",
    "\n",
    "---"
   ]
  },
  {
   "cell_type": "markdown",
   "metadata": {},
   "source": [
    "*All libraries used should be added here*"
   ]
  },
  {
   "cell_type": "code",
   "execution_count": 91,
   "metadata": {},
   "outputs": [],
   "source": [
    "# Imports:\n",
    "import numpy as np\n",
    "import pandas as pd\n",
    "import matplotlib.pyplot as plt\n",
    "import seaborn as sns\n",
    "%matplotlib inline"
   ]
  },
  {
   "cell_type": "markdown",
   "metadata": {},
   "source": [
    "## Data Import and Cleaning"
   ]
  },
  {
   "cell_type": "markdown",
   "metadata": {},
   "source": [
    "### Data Import & Cleaning\n",
    "\n",
    "Import the datasets that you selected for this project and go through the following steps at a minimum. You are welcome to do further cleaning as you feel necessary:\n",
    "1. Display the data: print the first 5 rows of each dataframe to your Jupyter notebook.\n",
    "2. Check for missing values.\n",
    "3. Check for any obvious issues with the observations (keep in mind the minimum & maximum possible values for each test/subtest).\n",
    "4. Fix any errors you identified in steps 2-3.\n",
    "5. Display the data types of each feature.\n",
    "6. Fix any incorrect data types found in step 5.\n",
    "    - Fix any individual values preventing other columns from being the appropriate type.\n",
    "    - If your dataset has a column of percents (ex. '50%', '30.5%', etc.), use the function you wrote in Part 1 (coding challenges, number 3) to convert this to floats! *Hint*: use `.map()` or `.apply()`.\n",
    "7. Rename Columns.\n",
    "    - Column names should be all lowercase.\n",
    "    - Column names should not contain spaces (underscores will suffice--this allows for using the `df.column_name` method to access columns in addition to `df['column_name']`).\n",
    "    - Column names should be unique and informative.\n",
    "8. Drop unnecessary rows (if needed).\n",
    "9. Merge dataframes that can be merged.\n",
    "10. Perform any additional cleaning that you feel is necessary.\n",
    "11. Save your cleaned and merged dataframes as csv files."
   ]
  },
  {
   "cell_type": "markdown",
   "metadata": {},
   "source": [
    "### California SAT Data Import and Cleaninig"
   ]
  },
  {
   "cell_type": "code",
   "execution_count": 92,
   "metadata": {},
   "outputs": [
    {
     "data": {
      "text/html": [
       "<div>\n",
       "<style scoped>\n",
       "    .dataframe tbody tr th:only-of-type {\n",
       "        vertical-align: middle;\n",
       "    }\n",
       "\n",
       "    .dataframe tbody tr th {\n",
       "        vertical-align: top;\n",
       "    }\n",
       "\n",
       "    .dataframe thead th {\n",
       "        text-align: right;\n",
       "    }\n",
       "</style>\n",
       "<table border=\"1\" class=\"dataframe\">\n",
       "  <thead>\n",
       "    <tr style=\"text-align: right;\">\n",
       "      <th></th>\n",
       "      <th>CDS</th>\n",
       "      <th>CCode</th>\n",
       "      <th>CDCode</th>\n",
       "      <th>SCode</th>\n",
       "      <th>RType</th>\n",
       "      <th>SName</th>\n",
       "      <th>DName</th>\n",
       "      <th>CName</th>\n",
       "      <th>Enroll12</th>\n",
       "      <th>NumTSTTakr12</th>\n",
       "      <th>...</th>\n",
       "      <th>NumERWBenchmark11</th>\n",
       "      <th>PctERWBenchmark11</th>\n",
       "      <th>NumMathBenchmark11</th>\n",
       "      <th>PctMathBenchmark11</th>\n",
       "      <th>TotNumBothBenchmark12</th>\n",
       "      <th>PctBothBenchmark12</th>\n",
       "      <th>TotNumBothBenchmark11</th>\n",
       "      <th>PctBothBenchmark11</th>\n",
       "      <th>Year</th>\n",
       "      <th>Unnamed: 25</th>\n",
       "    </tr>\n",
       "  </thead>\n",
       "  <tbody>\n",
       "    <tr>\n",
       "      <th>0</th>\n",
       "      <td>6.615981e+12</td>\n",
       "      <td>6.0</td>\n",
       "      <td>661598.0</td>\n",
       "      <td>630046.0</td>\n",
       "      <td>S</td>\n",
       "      <td>Colusa Alternative Home</td>\n",
       "      <td>Colusa Unified</td>\n",
       "      <td>Colusa</td>\n",
       "      <td>18.0</td>\n",
       "      <td>0.0</td>\n",
       "      <td>...</td>\n",
       "      <td>NaN</td>\n",
       "      <td>NaN</td>\n",
       "      <td>NaN</td>\n",
       "      <td>NaN</td>\n",
       "      <td>NaN</td>\n",
       "      <td>NaN</td>\n",
       "      <td>NaN</td>\n",
       "      <td>NaN</td>\n",
       "      <td>2018-19</td>\n",
       "      <td>NaN</td>\n",
       "    </tr>\n",
       "    <tr>\n",
       "      <th>1</th>\n",
       "      <td>6.616061e+12</td>\n",
       "      <td>6.0</td>\n",
       "      <td>661606.0</td>\n",
       "      <td>634758.0</td>\n",
       "      <td>S</td>\n",
       "      <td>Maxwell Sr High</td>\n",
       "      <td>Maxwell Unified</td>\n",
       "      <td>Colusa</td>\n",
       "      <td>29.0</td>\n",
       "      <td>10.0</td>\n",
       "      <td>...</td>\n",
       "      <td>*</td>\n",
       "      <td>*</td>\n",
       "      <td>*</td>\n",
       "      <td>*</td>\n",
       "      <td>*</td>\n",
       "      <td>*</td>\n",
       "      <td>*</td>\n",
       "      <td>*</td>\n",
       "      <td>2018-19</td>\n",
       "      <td>NaN</td>\n",
       "    </tr>\n",
       "    <tr>\n",
       "      <th>2</th>\n",
       "      <td>1.964733e+13</td>\n",
       "      <td>19.0</td>\n",
       "      <td>1964733.0</td>\n",
       "      <td>1930924.0</td>\n",
       "      <td>S</td>\n",
       "      <td>Belmont Senior High</td>\n",
       "      <td>Los Angeles Unified</td>\n",
       "      <td>Los Angeles</td>\n",
       "      <td>206.0</td>\n",
       "      <td>102.0</td>\n",
       "      <td>...</td>\n",
       "      <td>42</td>\n",
       "      <td>24.14</td>\n",
       "      <td>12</td>\n",
       "      <td>6.90</td>\n",
       "      <td>14</td>\n",
       "      <td>13.73</td>\n",
       "      <td>11</td>\n",
       "      <td>6.32</td>\n",
       "      <td>2018-19</td>\n",
       "      <td>NaN</td>\n",
       "    </tr>\n",
       "  </tbody>\n",
       "</table>\n",
       "<p>3 rows × 26 columns</p>\n",
       "</div>"
      ],
      "text/plain": [
       "            CDS  CCode     CDCode      SCode RType                    SName  \\\n",
       "0  6.615981e+12    6.0   661598.0   630046.0     S  Colusa Alternative Home   \n",
       "1  6.616061e+12    6.0   661606.0   634758.0     S          Maxwell Sr High   \n",
       "2  1.964733e+13   19.0  1964733.0  1930924.0     S      Belmont Senior High   \n",
       "\n",
       "                 DName        CName  Enroll12  NumTSTTakr12  ...  \\\n",
       "0       Colusa Unified       Colusa      18.0           0.0  ...   \n",
       "1      Maxwell Unified       Colusa      29.0          10.0  ...   \n",
       "2  Los Angeles Unified  Los Angeles     206.0         102.0  ...   \n",
       "\n",
       "  NumERWBenchmark11 PctERWBenchmark11 NumMathBenchmark11 PctMathBenchmark11  \\\n",
       "0               NaN               NaN                NaN                NaN   \n",
       "1                 *                 *                  *                  *   \n",
       "2                42             24.14                 12               6.90   \n",
       "\n",
       "   TotNumBothBenchmark12  PctBothBenchmark12 TotNumBothBenchmark11  \\\n",
       "0                    NaN                 NaN                   NaN   \n",
       "1                      *                   *                     *   \n",
       "2                     14               13.73                    11   \n",
       "\n",
       "  PctBothBenchmark11     Year Unnamed: 25  \n",
       "0                NaN  2018-19         NaN  \n",
       "1                  *  2018-19         NaN  \n",
       "2               6.32  2018-19         NaN  \n",
       "\n",
       "[3 rows x 26 columns]"
      ]
     },
     "execution_count": 92,
     "metadata": {},
     "output_type": "execute_result"
    }
   ],
   "source": [
    "# Reading in California SAT dataset:\n",
    "ca_sat = pd.read_csv('../data/sat_2019_ca.csv')\n",
    "ca_sat.head(3)"
   ]
  },
  {
   "cell_type": "code",
   "execution_count": 93,
   "metadata": {},
   "outputs": [
    {
     "name": "stdout",
     "output_type": "stream",
     "text": [
      "<class 'pandas.core.frame.DataFrame'>\n",
      "RangeIndex: 2580 entries, 0 to 2579\n",
      "Data columns (total 26 columns):\n",
      " #   Column                 Non-Null Count  Dtype  \n",
      "---  ------                 --------------  -----  \n",
      " 0   CDS                    2579 non-null   float64\n",
      " 1   CCode                  2579 non-null   float64\n",
      " 2   CDCode                 2579 non-null   float64\n",
      " 3   SCode                  2579 non-null   float64\n",
      " 4   RType                  2579 non-null   object \n",
      " 5   SName                  1982 non-null   object \n",
      " 6   DName                  2521 non-null   object \n",
      " 7   CName                  2579 non-null   object \n",
      " 8   Enroll12               2579 non-null   float64\n",
      " 9   NumTSTTakr12           2579 non-null   float64\n",
      " 10  NumERWBenchmark12      2304 non-null   object \n",
      " 11  PctERWBenchmark12      2304 non-null   object \n",
      " 12  NumMathBenchmark12     2304 non-null   object \n",
      " 13  PctMathBenchmark12     2304 non-null   object \n",
      " 14  Enroll11               2579 non-null   float64\n",
      " 15  NumTSTTakr11           2579 non-null   float64\n",
      " 16  NumERWBenchmark11      2269 non-null   object \n",
      " 17  PctERWBenchmark11      2269 non-null   object \n",
      " 18  NumMathBenchmark11     2269 non-null   object \n",
      " 19  PctMathBenchmark11     2269 non-null   object \n",
      " 20  TotNumBothBenchmark12  2304 non-null   object \n",
      " 21  PctBothBenchmark12     2304 non-null   object \n",
      " 22  TotNumBothBenchmark11  2269 non-null   object \n",
      " 23  PctBothBenchmark11     2269 non-null   object \n",
      " 24  Year                   2579 non-null   object \n",
      " 25  Unnamed: 25            0 non-null      float64\n",
      "dtypes: float64(9), object(17)\n",
      "memory usage: 524.2+ KB\n"
     ]
    }
   ],
   "source": [
    "# The benchmark columns are classified as objects even though they should be floats. \n",
    "# There are also some columns that won't be used in this analysis, so those should be removed.\n",
    "ca_sat.info()"
   ]
  },
  {
   "cell_type": "code",
   "execution_count": 94,
   "metadata": {},
   "outputs": [],
   "source": [
    "# Eliminating all rows that are district or county level, so that average per-school numbers aren't improperly skewed. \n",
    "ca_sat = ca_sat[ca_sat['RType'] == 'S']"
   ]
  },
  {
   "cell_type": "code",
   "execution_count": 95,
   "metadata": {},
   "outputs": [],
   "source": [
    "# Dropping columns CDS, CCode, CDCode, Year, RType, \n",
    "# and Unnamed: 25 since their values aren't useful for the analysis of schools\n",
    "ca_sat.drop(columns=['CDS', 'CCode', 'CDCode', 'Unnamed: 25', 'Year', 'RType'], axis=1, inplace=True)"
   ]
  },
  {
   "cell_type": "code",
   "execution_count": 97,
   "metadata": {},
   "outputs": [
    {
     "data": {
      "text/plain": [
       "SCode                     0.000000\n",
       "SName                     0.000000\n",
       "DName                     0.000000\n",
       "CName                     0.000000\n",
       "Enroll12                  0.000000\n",
       "NumTSTTakr12              0.000000\n",
       "NumERWBenchmark12        11.913175\n",
       "PctERWBenchmark12        11.913175\n",
       "NumMathBenchmark12       11.913175\n",
       "PctMathBenchmark12       11.913175\n",
       "Enroll11                  0.000000\n",
       "NumTSTTakr11              0.000000\n",
       "NumERWBenchmark11        13.377082\n",
       "PctERWBenchmark11        13.377082\n",
       "NumMathBenchmark11       13.377082\n",
       "PctMathBenchmark11       13.377082\n",
       "TotNumBothBenchmark12    11.913175\n",
       "PctBothBenchmark12       11.913175\n",
       "TotNumBothBenchmark11    13.377082\n",
       "PctBothBenchmark11       13.377082\n",
       "dtype: float64"
      ]
     },
     "execution_count": 97,
     "metadata": {},
     "output_type": "execute_result"
    }
   ],
   "source": [
    "# Empty values take up ~11-13% of the benchmark columns. Rows with N/A values will be deleted\n",
    "# to improve the accuracy of findings.\n",
    "ca_sat.isnull().mean() * 100"
   ]
  },
  {
   "cell_type": "code",
   "execution_count": 98,
   "metadata": {},
   "outputs": [
    {
     "data": {
      "text/plain": [
       "*      484\n",
       "23      18\n",
       "41      15\n",
       "17      15\n",
       "10      15\n",
       "      ... \n",
       "256      1\n",
       "279      1\n",
       "265      1\n",
       "241      1\n",
       "213      1\n",
       "Name: NumERWBenchmark12, Length: 284, dtype: int64"
      ]
     },
     "execution_count": 98,
     "metadata": {},
     "output_type": "execute_result"
    }
   ],
   "source": [
    "# Noted large amount of '*' values.\n",
    "ca_sat['NumERWBenchmark12'].value_counts()"
   ]
  },
  {
   "cell_type": "code",
   "execution_count": 99,
   "metadata": {},
   "outputs": [
    {
     "name": "stdout",
     "output_type": "stream",
     "text": [
      "14.0\n",
      "14.0\n",
      "14.0\n",
      "14.0\n",
      "14.0\n",
      "0.0\n",
      "0.0\n",
      "0.0\n",
      "0.0\n",
      "0.0\n"
     ]
    }
   ],
   "source": [
    "# N/A values in the benchmark columns indicate that test turnout was 0 and that '*' values \n",
    "# in the benchmark columns indicate a test turnout above 0, but at or under 14 (to preserve anonymity of students)\n",
    "\n",
    "print(ca_sat[ca_sat['NumERWBenchmark12'] == '*']['NumTSTTakr12'].max())\n",
    "print(ca_sat[ca_sat['NumMathBenchmark12'] == '*']['NumTSTTakr12'].max())\n",
    "print(ca_sat[ca_sat['PctERWBenchmark12'] == '*']['NumTSTTakr12'].max())\n",
    "print(ca_sat[ca_sat['PctMathBenchmark12'] == '*']['NumTSTTakr12'].max())\n",
    "print(ca_sat[ca_sat['PctMathBenchmark11'] == '*']['NumTSTTakr11'].max())\n",
    "\n",
    "print(ca_sat[ca_sat['NumERWBenchmark12'].isnull()]['NumTSTTakr12'].max())\n",
    "print(ca_sat[ca_sat['NumMathBenchmark12'].isnull()]['NumTSTTakr12'].max())\n",
    "print(ca_sat[ca_sat['PctERWBenchmark12'].isnull()]['NumTSTTakr12'].max())\n",
    "print(ca_sat[ca_sat['PctMathBenchmark12'].isnull()]['NumTSTTakr12'].max())\n",
    "print(ca_sat[ca_sat['PctMathBenchmark11'].isnull()]['NumTSTTakr11'].max())"
   ]
  },
  {
   "cell_type": "code",
   "execution_count": 100,
   "metadata": {},
   "outputs": [],
   "source": [
    "# Function to convert all * values to N/A\n",
    "def no_asterisks(n):\n",
    "    if n == '*':\n",
    "        return np.nan\n",
    "    else:\n",
    "        return float(n)"
   ]
  },
  {
   "cell_type": "code",
   "execution_count": 101,
   "metadata": {},
   "outputs": [],
   "source": [
    "# Converting all * values in the benchmark columns into N/A values\n",
    "ca_sat['NumERWBenchmark12'] = ca_sat['NumERWBenchmark12'].map(no_asterisks)\n",
    "ca_sat['PctERWBenchmark12'] = ca_sat['PctERWBenchmark12'].map(no_asterisks)\n",
    "ca_sat['NumMathBenchmark12'] = ca_sat['NumMathBenchmark12'].map(no_asterisks)\n",
    "ca_sat['PctMathBenchmark12'] = ca_sat['PctMathBenchmark12'].map(no_asterisks)\n",
    "ca_sat['NumERWBenchmark11'] = ca_sat['NumERWBenchmark11'].map(no_asterisks)\n",
    "ca_sat['PctERWBenchmark11'] = ca_sat['PctERWBenchmark11'].map(no_asterisks)\n",
    "ca_sat['NumMathBenchmark11'] = ca_sat['NumMathBenchmark11'].map(no_asterisks)\n",
    "ca_sat['PctMathBenchmark11'] = ca_sat['PctMathBenchmark11'].map(no_asterisks)                                    \n",
    "ca_sat['TotNumBothBenchmark12'] = ca_sat['TotNumBothBenchmark12'].map(no_asterisks)\n",
    "ca_sat['PctBothBenchmark12'] = ca_sat['PctBothBenchmark12'].map(no_asterisks)\n",
    "ca_sat['TotNumBothBenchmark11'] = ca_sat['TotNumBothBenchmark11'].map(no_asterisks)\n",
    "ca_sat['PctBothBenchmark11'] = ca_sat['PctBothBenchmark11'].map(no_asterisks)"
   ]
  },
  {
   "cell_type": "code",
   "execution_count": 102,
   "metadata": {},
   "outputs": [],
   "source": [
    "# Take away all rows where the 12th grade benchmarks are N/A\n",
    "\n",
    "ca_sat = ca_sat[ca_sat['NumERWBenchmark12'].notna()]"
   ]
  },
  {
   "cell_type": "code",
   "execution_count": 103,
   "metadata": {},
   "outputs": [],
   "source": [
    "# There is SAT data for both CA senior and junior grades, but there is only ACT data for the senior grade. \n",
    "# Since the analysis is comparing ACT vs SAT data, the SAT data relating to the junior grade should be \n",
    "# removed from the dataset. \n",
    "\n",
    "ca_sat.drop(columns=['Enroll11', 'NumTSTTakr11', 'NumERWBenchmark11', 'NumMathBenchmark11', 'PctERWBenchmark11', 'PctMathBenchmark11', 'TotNumBothBenchmark11', 'PctBothBenchmark11'], axis=1, inplace=True)"
   ]
  },
  {
   "cell_type": "code",
   "execution_count": 105,
   "metadata": {},
   "outputs": [
    {
     "name": "stdout",
     "output_type": "stream",
     "text": [
      "(6, 12)\n"
     ]
    }
   ],
   "source": [
    "# There are a total of 6 rows where the value for number of test takers in a grade is larger than the value for\n",
    "# the total grade enrollment. It's illogical that a school would have more test takers than total students\n",
    "# enrolled at the school, so my assumption is that certain test takers took the test at a school while \n",
    "# not having actually been enrolled at that school.\n",
    "\n",
    "print(ca_sat[ca_sat['NumTSTTakr12'] > ca_sat['Enroll12']].shape)"
   ]
  },
  {
   "cell_type": "code",
   "execution_count": 106,
   "metadata": {},
   "outputs": [
    {
     "data": {
      "text/plain": [
       "SCode                    0\n",
       "SName                    0\n",
       "DName                    0\n",
       "CName                    0\n",
       "Enroll12                 0\n",
       "NumTSTTakr12             0\n",
       "NumERWBenchmark12        0\n",
       "PctERWBenchmark12        0\n",
       "NumMathBenchmark12       0\n",
       "PctMathBenchmark12       0\n",
       "TotNumBothBenchmark12    0\n",
       "PctBothBenchmark12       0\n",
       "dtype: int64"
      ]
     },
     "execution_count": 106,
     "metadata": {},
     "output_type": "execute_result"
    }
   ],
   "source": [
    "# No more missing values!\n",
    "ca_sat.isnull().sum()"
   ]
  },
  {
   "cell_type": "code",
   "execution_count": 107,
   "metadata": {},
   "outputs": [
    {
     "name": "stdout",
     "output_type": "stream",
     "text": [
      "<class 'pandas.core.frame.DataFrame'>\n",
      "Int64Index: 1261 entries, 2 to 1980\n",
      "Data columns (total 12 columns):\n",
      " #   Column                 Non-Null Count  Dtype  \n",
      "---  ------                 --------------  -----  \n",
      " 0   SCode                  1261 non-null   float64\n",
      " 1   SName                  1261 non-null   object \n",
      " 2   DName                  1261 non-null   object \n",
      " 3   CName                  1261 non-null   object \n",
      " 4   Enroll12               1261 non-null   float64\n",
      " 5   NumTSTTakr12           1261 non-null   float64\n",
      " 6   NumERWBenchmark12      1261 non-null   float64\n",
      " 7   PctERWBenchmark12      1261 non-null   float64\n",
      " 8   NumMathBenchmark12     1261 non-null   float64\n",
      " 9   PctMathBenchmark12     1261 non-null   float64\n",
      " 10  TotNumBothBenchmark12  1261 non-null   float64\n",
      " 11  PctBothBenchmark12     1261 non-null   float64\n",
      "dtypes: float64(9), object(3)\n",
      "memory usage: 128.1+ KB\n"
     ]
    }
   ],
   "source": [
    "# I have all the needed columns and they're the appropriate data types\n",
    "ca_sat.info()"
   ]
  },
  {
   "cell_type": "code",
   "execution_count": 108,
   "metadata": {},
   "outputs": [
    {
     "data": {
      "text/plain": [
       "Index(['SCode', 'SName', 'DName', 'CName', 'Enroll12', 'NumTSTTakr12',\n",
       "       'NumERWBenchmark12', 'PctERWBenchmark12', 'NumMathBenchmark12',\n",
       "       'PctMathBenchmark12', 'TotNumBothBenchmark12', 'PctBothBenchmark12'],\n",
       "      dtype='object')"
      ]
     },
     "execution_count": 108,
     "metadata": {},
     "output_type": "execute_result"
    }
   ],
   "source": [
    "# Confirm current column names\n",
    "ca_sat.columns"
   ]
  },
  {
   "cell_type": "code",
   "execution_count": 109,
   "metadata": {},
   "outputs": [],
   "source": [
    "# Change column names\n",
    "sat_columns_dict = {\n",
    "    'SCode': 'school_code',\n",
    "    'SName': 'sat_school',\n",
    "    'DName': 'sat_district',\n",
    "    'CName': 'sat_county',\n",
    "    'Enroll12': 'sat_snrs_enrolled',\n",
    "    'NumTSTTakr12': 'sat_snr_testers',\n",
    "    'NumERWBenchmark12': 'sat_num_erw_bm',\n",
    "    'PctERWBenchmark12': 'sat_pct_erw_bm',\n",
    "    'NumMathBenchmark12': 'sat_num_math_bm',\n",
    "    'PctMathBenchmark12': 'sat_pct_math_bm',\n",
    "    'TotNumBothBenchmark12': 'sat_num_both_bm',\n",
    "    'PctBothBenchmark12' : 'sat_pct_both_bm',\n",
    "}\n",
    "\n",
    "ca_sat.rename(columns=sat_columns_dict, inplace=True)"
   ]
  },
  {
   "cell_type": "code",
   "execution_count": 110,
   "metadata": {},
   "outputs": [
    {
     "data": {
      "text/plain": [
       "Index(['school_code', 'sat_school', 'sat_district', 'sat_county',\n",
       "       'sat_snrs_enrolled', 'sat_snr_testers', 'sat_num_erw_bm',\n",
       "       'sat_pct_erw_bm', 'sat_num_math_bm', 'sat_pct_math_bm',\n",
       "       'sat_num_both_bm', 'sat_pct_both_bm'],\n",
       "      dtype='object')"
      ]
     },
     "execution_count": 110,
     "metadata": {},
     "output_type": "execute_result"
    }
   ],
   "source": [
    "# Confirm column names are changed (more intuitive and formatted)\n",
    "ca_sat.columns"
   ]
  },
  {
   "cell_type": "code",
   "execution_count": 111,
   "metadata": {},
   "outputs": [
    {
     "data": {
      "text/html": [
       "<div>\n",
       "<style scoped>\n",
       "    .dataframe tbody tr th:only-of-type {\n",
       "        vertical-align: middle;\n",
       "    }\n",
       "\n",
       "    .dataframe tbody tr th {\n",
       "        vertical-align: top;\n",
       "    }\n",
       "\n",
       "    .dataframe thead th {\n",
       "        text-align: right;\n",
       "    }\n",
       "</style>\n",
       "<table border=\"1\" class=\"dataframe\">\n",
       "  <thead>\n",
       "    <tr style=\"text-align: right;\">\n",
       "      <th></th>\n",
       "      <th>school_code</th>\n",
       "      <th>sat_school</th>\n",
       "      <th>sat_district</th>\n",
       "      <th>sat_county</th>\n",
       "      <th>sat_snrs_enrolled</th>\n",
       "      <th>sat_snr_testers</th>\n",
       "      <th>sat_num_erw_bm</th>\n",
       "      <th>sat_pct_erw_bm</th>\n",
       "      <th>sat_num_math_bm</th>\n",
       "      <th>sat_pct_math_bm</th>\n",
       "      <th>sat_num_both_bm</th>\n",
       "      <th>sat_pct_both_bm</th>\n",
       "    </tr>\n",
       "  </thead>\n",
       "  <tbody>\n",
       "    <tr>\n",
       "      <th>2</th>\n",
       "      <td>1930924.0</td>\n",
       "      <td>Belmont Senior High</td>\n",
       "      <td>Los Angeles Unified</td>\n",
       "      <td>Los Angeles</td>\n",
       "      <td>206.0</td>\n",
       "      <td>102.0</td>\n",
       "      <td>31.0</td>\n",
       "      <td>30.39</td>\n",
       "      <td>14.0</td>\n",
       "      <td>13.73</td>\n",
       "      <td>14.0</td>\n",
       "      <td>13.73</td>\n",
       "    </tr>\n",
       "    <tr>\n",
       "      <th>3</th>\n",
       "      <td>1931476.0</td>\n",
       "      <td>Canoga Park Senior High</td>\n",
       "      <td>Los Angeles Unified</td>\n",
       "      <td>Los Angeles</td>\n",
       "      <td>227.0</td>\n",
       "      <td>113.0</td>\n",
       "      <td>54.0</td>\n",
       "      <td>47.79</td>\n",
       "      <td>18.0</td>\n",
       "      <td>15.93</td>\n",
       "      <td>18.0</td>\n",
       "      <td>15.93</td>\n",
       "    </tr>\n",
       "    <tr>\n",
       "      <th>5</th>\n",
       "      <td>6061451.0</td>\n",
       "      <td>Foshay Learning Center</td>\n",
       "      <td>Los Angeles Unified</td>\n",
       "      <td>Los Angeles</td>\n",
       "      <td>166.0</td>\n",
       "      <td>106.0</td>\n",
       "      <td>68.0</td>\n",
       "      <td>64.15</td>\n",
       "      <td>36.0</td>\n",
       "      <td>33.96</td>\n",
       "      <td>36.0</td>\n",
       "      <td>33.96</td>\n",
       "    </tr>\n",
       "    <tr>\n",
       "      <th>6</th>\n",
       "      <td>3034956.0</td>\n",
       "      <td>Mission Viejo High</td>\n",
       "      <td>Saddleback Valley Unified</td>\n",
       "      <td>Orange</td>\n",
       "      <td>562.0</td>\n",
       "      <td>190.0</td>\n",
       "      <td>161.0</td>\n",
       "      <td>84.74</td>\n",
       "      <td>138.0</td>\n",
       "      <td>72.63</td>\n",
       "      <td>132.0</td>\n",
       "      <td>69.47</td>\n",
       "    </tr>\n",
       "    <tr>\n",
       "      <th>7</th>\n",
       "      <td>3336955.0</td>\n",
       "      <td>Abraham Lincoln Continuation</td>\n",
       "      <td>Riverside Unified</td>\n",
       "      <td>Riverside</td>\n",
       "      <td>114.0</td>\n",
       "      <td>17.0</td>\n",
       "      <td>3.0</td>\n",
       "      <td>17.65</td>\n",
       "      <td>2.0</td>\n",
       "      <td>11.76</td>\n",
       "      <td>2.0</td>\n",
       "      <td>11.76</td>\n",
       "    </tr>\n",
       "  </tbody>\n",
       "</table>\n",
       "</div>"
      ],
      "text/plain": [
       "   school_code                    sat_school               sat_district  \\\n",
       "2    1930924.0           Belmont Senior High        Los Angeles Unified   \n",
       "3    1931476.0       Canoga Park Senior High        Los Angeles Unified   \n",
       "5    6061451.0        Foshay Learning Center        Los Angeles Unified   \n",
       "6    3034956.0            Mission Viejo High  Saddleback Valley Unified   \n",
       "7    3336955.0  Abraham Lincoln Continuation          Riverside Unified   \n",
       "\n",
       "    sat_county  sat_snrs_enrolled  sat_snr_testers  sat_num_erw_bm  \\\n",
       "2  Los Angeles              206.0            102.0            31.0   \n",
       "3  Los Angeles              227.0            113.0            54.0   \n",
       "5  Los Angeles              166.0            106.0            68.0   \n",
       "6       Orange              562.0            190.0           161.0   \n",
       "7    Riverside              114.0             17.0             3.0   \n",
       "\n",
       "   sat_pct_erw_bm  sat_num_math_bm  sat_pct_math_bm  sat_num_both_bm  \\\n",
       "2           30.39             14.0            13.73             14.0   \n",
       "3           47.79             18.0            15.93             18.0   \n",
       "5           64.15             36.0            33.96             36.0   \n",
       "6           84.74            138.0            72.63            132.0   \n",
       "7           17.65              2.0            11.76              2.0   \n",
       "\n",
       "   sat_pct_both_bm  \n",
       "2            13.73  \n",
       "3            15.93  \n",
       "5            33.96  \n",
       "6            69.47  \n",
       "7            11.76  "
      ]
     },
     "execution_count": 111,
     "metadata": {},
     "output_type": "execute_result"
    }
   ],
   "source": [
    "ca_sat.head()"
   ]
  },
  {
   "cell_type": "markdown",
   "metadata": {},
   "source": [
    "### California ACT Data Import and Cleaninig"
   ]
  },
  {
   "cell_type": "code",
   "execution_count": 112,
   "metadata": {},
   "outputs": [
    {
     "data": {
      "text/html": [
       "<div>\n",
       "<style scoped>\n",
       "    .dataframe tbody tr th:only-of-type {\n",
       "        vertical-align: middle;\n",
       "    }\n",
       "\n",
       "    .dataframe tbody tr th {\n",
       "        vertical-align: top;\n",
       "    }\n",
       "\n",
       "    .dataframe thead th {\n",
       "        text-align: right;\n",
       "    }\n",
       "</style>\n",
       "<table border=\"1\" class=\"dataframe\">\n",
       "  <thead>\n",
       "    <tr style=\"text-align: right;\">\n",
       "      <th></th>\n",
       "      <th>CDS</th>\n",
       "      <th>CCode</th>\n",
       "      <th>CDCode</th>\n",
       "      <th>SCode</th>\n",
       "      <th>RType</th>\n",
       "      <th>SName</th>\n",
       "      <th>DName</th>\n",
       "      <th>CName</th>\n",
       "      <th>Enroll12</th>\n",
       "      <th>NumTstTakr</th>\n",
       "      <th>AvgScrRead</th>\n",
       "      <th>AvgScrEng</th>\n",
       "      <th>AvgScrMath</th>\n",
       "      <th>AvgScrSci</th>\n",
       "      <th>NumGE21</th>\n",
       "      <th>PctGE21</th>\n",
       "      <th>Year</th>\n",
       "      <th>Unnamed: 17</th>\n",
       "    </tr>\n",
       "  </thead>\n",
       "  <tbody>\n",
       "    <tr>\n",
       "      <th>0</th>\n",
       "      <td>3.366993e+13</td>\n",
       "      <td>33.0</td>\n",
       "      <td>3366993.0</td>\n",
       "      <td>129882.0</td>\n",
       "      <td>S</td>\n",
       "      <td>21st Century Learning Institute</td>\n",
       "      <td>Beaumont Unified</td>\n",
       "      <td>Riverside</td>\n",
       "      <td>18.0</td>\n",
       "      <td>0.0</td>\n",
       "      <td>NaN</td>\n",
       "      <td>NaN</td>\n",
       "      <td>NaN</td>\n",
       "      <td>NaN</td>\n",
       "      <td>NaN</td>\n",
       "      <td>NaN</td>\n",
       "      <td>2018-19</td>\n",
       "      <td>NaN</td>\n",
       "    </tr>\n",
       "    <tr>\n",
       "      <th>1</th>\n",
       "      <td>1.964212e+13</td>\n",
       "      <td>19.0</td>\n",
       "      <td>1964212.0</td>\n",
       "      <td>1995596.0</td>\n",
       "      <td>S</td>\n",
       "      <td>ABC Secondary (Alternative)</td>\n",
       "      <td>ABC Unified</td>\n",
       "      <td>Los Angeles</td>\n",
       "      <td>58.0</td>\n",
       "      <td>0.0</td>\n",
       "      <td>NaN</td>\n",
       "      <td>NaN</td>\n",
       "      <td>NaN</td>\n",
       "      <td>NaN</td>\n",
       "      <td>NaN</td>\n",
       "      <td>NaN</td>\n",
       "      <td>2018-19</td>\n",
       "      <td>NaN</td>\n",
       "    </tr>\n",
       "    <tr>\n",
       "      <th>2</th>\n",
       "      <td>1.563776e+13</td>\n",
       "      <td>15.0</td>\n",
       "      <td>1563776.0</td>\n",
       "      <td>1530377.0</td>\n",
       "      <td>S</td>\n",
       "      <td>Abraham Lincoln Alternative</td>\n",
       "      <td>Southern Kern Unified</td>\n",
       "      <td>Kern</td>\n",
       "      <td>18.0</td>\n",
       "      <td>0.0</td>\n",
       "      <td>NaN</td>\n",
       "      <td>NaN</td>\n",
       "      <td>NaN</td>\n",
       "      <td>NaN</td>\n",
       "      <td>NaN</td>\n",
       "      <td>NaN</td>\n",
       "      <td>2018-19</td>\n",
       "      <td>NaN</td>\n",
       "    </tr>\n",
       "    <tr>\n",
       "      <th>3</th>\n",
       "      <td>4.369666e+13</td>\n",
       "      <td>43.0</td>\n",
       "      <td>4369666.0</td>\n",
       "      <td>4333795.0</td>\n",
       "      <td>S</td>\n",
       "      <td>Abraham Lincoln High</td>\n",
       "      <td>San Jose Unified</td>\n",
       "      <td>Santa Clara</td>\n",
       "      <td>463.0</td>\n",
       "      <td>53.0</td>\n",
       "      <td>23</td>\n",
       "      <td>22</td>\n",
       "      <td>22</td>\n",
       "      <td>23</td>\n",
       "      <td>34</td>\n",
       "      <td>64.15</td>\n",
       "      <td>2018-19</td>\n",
       "      <td>NaN</td>\n",
       "    </tr>\n",
       "    <tr>\n",
       "      <th>4</th>\n",
       "      <td>1.964733e+13</td>\n",
       "      <td>19.0</td>\n",
       "      <td>1964733.0</td>\n",
       "      <td>1935121.0</td>\n",
       "      <td>S</td>\n",
       "      <td>Abraham Lincoln Senior High</td>\n",
       "      <td>Los Angeles Unified</td>\n",
       "      <td>Los Angeles</td>\n",
       "      <td>226.0</td>\n",
       "      <td>19.0</td>\n",
       "      <td>21</td>\n",
       "      <td>20</td>\n",
       "      <td>23</td>\n",
       "      <td>22</td>\n",
       "      <td>11</td>\n",
       "      <td>57.89</td>\n",
       "      <td>2018-19</td>\n",
       "      <td>NaN</td>\n",
       "    </tr>\n",
       "  </tbody>\n",
       "</table>\n",
       "</div>"
      ],
      "text/plain": [
       "            CDS  CCode     CDCode      SCode RType  \\\n",
       "0  3.366993e+13   33.0  3366993.0   129882.0     S   \n",
       "1  1.964212e+13   19.0  1964212.0  1995596.0     S   \n",
       "2  1.563776e+13   15.0  1563776.0  1530377.0     S   \n",
       "3  4.369666e+13   43.0  4369666.0  4333795.0     S   \n",
       "4  1.964733e+13   19.0  1964733.0  1935121.0     S   \n",
       "\n",
       "                             SName                  DName        CName  \\\n",
       "0  21st Century Learning Institute       Beaumont Unified    Riverside   \n",
       "1      ABC Secondary (Alternative)            ABC Unified  Los Angeles   \n",
       "2      Abraham Lincoln Alternative  Southern Kern Unified         Kern   \n",
       "3             Abraham Lincoln High       San Jose Unified  Santa Clara   \n",
       "4      Abraham Lincoln Senior High    Los Angeles Unified  Los Angeles   \n",
       "\n",
       "   Enroll12  NumTstTakr AvgScrRead AvgScrEng AvgScrMath AvgScrSci NumGE21  \\\n",
       "0      18.0         0.0        NaN       NaN        NaN       NaN     NaN   \n",
       "1      58.0         0.0        NaN       NaN        NaN       NaN     NaN   \n",
       "2      18.0         0.0        NaN       NaN        NaN       NaN     NaN   \n",
       "3     463.0        53.0         23        22         22        23      34   \n",
       "4     226.0        19.0         21        20         23        22      11   \n",
       "\n",
       "  PctGE21     Year  Unnamed: 17  \n",
       "0     NaN  2018-19          NaN  \n",
       "1     NaN  2018-19          NaN  \n",
       "2     NaN  2018-19          NaN  \n",
       "3   64.15  2018-19          NaN  \n",
       "4   57.89  2018-19          NaN  "
      ]
     },
     "execution_count": 112,
     "metadata": {},
     "output_type": "execute_result"
    }
   ],
   "source": [
    "# Reading in CA ACT file\n",
    "ca_act = pd.read_csv('../data/act_2019_ca.csv')\n",
    "ca_act.head()"
   ]
  },
  {
   "cell_type": "code",
   "execution_count": 113,
   "metadata": {},
   "outputs": [
    {
     "name": "stdout",
     "output_type": "stream",
     "text": [
      "<class 'pandas.core.frame.DataFrame'>\n",
      "RangeIndex: 2310 entries, 0 to 2309\n",
      "Data columns (total 18 columns):\n",
      " #   Column       Non-Null Count  Dtype  \n",
      "---  ------       --------------  -----  \n",
      " 0   CDS          2309 non-null   float64\n",
      " 1   CCode        2309 non-null   float64\n",
      " 2   CDCode       2309 non-null   float64\n",
      " 3   SCode        1787 non-null   float64\n",
      " 4   RType        2309 non-null   object \n",
      " 5   SName        1729 non-null   object \n",
      " 6   DName        2251 non-null   object \n",
      " 7   CName        2309 non-null   object \n",
      " 8   Enroll12     2309 non-null   float64\n",
      " 9   NumTstTakr   2309 non-null   float64\n",
      " 10  AvgScrRead   1953 non-null   object \n",
      " 11  AvgScrEng    1953 non-null   object \n",
      " 12  AvgScrMath   1953 non-null   object \n",
      " 13  AvgScrSci    1953 non-null   object \n",
      " 14  NumGE21      1953 non-null   object \n",
      " 15  PctGE21      1953 non-null   object \n",
      " 16  Year         2309 non-null   object \n",
      " 17  Unnamed: 17  0 non-null      float64\n",
      "dtypes: float64(7), object(11)\n",
      "memory usage: 325.0+ KB\n"
     ]
    }
   ],
   "source": [
    "# Average score and GE21 columns should be turned from objects into floats. There are also some columns \n",
    "# that won't be used in the analysis, so those will be removed.\n",
    "ca_act.info()"
   ]
  },
  {
   "cell_type": "code",
   "execution_count": 114,
   "metadata": {},
   "outputs": [
    {
     "data": {
      "text/plain": [
       "CDS               1\n",
       "CCode             1\n",
       "CDCode            1\n",
       "SCode           523\n",
       "RType             1\n",
       "SName           581\n",
       "DName            59\n",
       "CName             1\n",
       "Enroll12          1\n",
       "NumTstTakr        1\n",
       "AvgScrRead      357\n",
       "AvgScrEng       357\n",
       "AvgScrMath      357\n",
       "AvgScrSci       357\n",
       "NumGE21         357\n",
       "PctGE21         357\n",
       "Year              1\n",
       "Unnamed: 17    2310\n",
       "dtype: int64"
      ]
     },
     "execution_count": 114,
     "metadata": {},
     "output_type": "execute_result"
    }
   ],
   "source": [
    "# Finding sum of all NA values per column\n",
    "ca_act.isnull().sum()"
   ]
  },
  {
   "cell_type": "code",
   "execution_count": 115,
   "metadata": {},
   "outputs": [],
   "source": [
    "# Eliminating all rows that are district or county level, so that average per-school numbers aren't improperly skewed. \n",
    "ca_act = ca_act[ca_act['RType'] == 'S']"
   ]
  },
  {
   "cell_type": "code",
   "execution_count": 116,
   "metadata": {},
   "outputs": [],
   "source": [
    "# Dropping these columns since their values aren't useful for the analysis\n",
    "ca_act.drop(columns=['CDS', 'CCode', 'CDCode', 'RType', 'Unnamed: 17', 'Year'], axis=1, inplace=True)"
   ]
  },
  {
   "cell_type": "code",
   "execution_count": 117,
   "metadata": {},
   "outputs": [
    {
     "data": {
      "text/plain": [
       "SCode          0.000000\n",
       "SName          0.000000\n",
       "DName          0.000000\n",
       "CName          0.000000\n",
       "Enroll12       0.000000\n",
       "NumTstTakr     0.000000\n",
       "AvgScrRead    16.898148\n",
       "AvgScrEng     16.898148\n",
       "AvgScrMath    16.898148\n",
       "AvgScrSci     16.898148\n",
       "NumGE21       16.898148\n",
       "PctGE21       16.898148\n",
       "dtype: float64"
      ]
     },
     "execution_count": 117,
     "metadata": {},
     "output_type": "execute_result"
    }
   ],
   "source": [
    "# Rows with N/A values will be removed for improved accuracy of analysis\n",
    "ca_act.isnull().mean() * 100"
   ]
  },
  {
   "cell_type": "code",
   "execution_count": 118,
   "metadata": {},
   "outputs": [
    {
     "name": "stdout",
     "output_type": "stream",
     "text": [
      "14.0\n",
      "14.0\n",
      "14.0\n",
      "14.0\n",
      "14.0\n",
      "14.0\n",
      "0.0\n",
      "0.0\n",
      "0.0\n",
      "0.0\n",
      "0.0\n",
      "0.0\n"
     ]
    }
   ],
   "source": [
    "# N/A values in the scoring columns indicate that test turnout was 0 and the '*' values \n",
    "# in the scoring columns indicate a test turnout above 0, but under 14 (preserving student anonymity). Similar pattern \n",
    "# as with the SAT benchmark columns. \n",
    "\n",
    "print(ca_act[ca_act['AvgScrRead'] == '*']['NumTstTakr'].max())\n",
    "print(ca_act[ca_act['AvgScrEng'] == '*']['NumTstTakr'].max())\n",
    "print(ca_act[ca_act['AvgScrMath'] == '*']['NumTstTakr'].max())\n",
    "print(ca_act[ca_act['AvgScrSci'] == '*']['NumTstTakr'].max())\n",
    "print(ca_act[ca_act['NumGE21'] == '*']['NumTstTakr'].max())\n",
    "print(ca_act[ca_act['PctGE21'] == '*']['NumTstTakr'].max())\n",
    "\n",
    "print(ca_act[ca_act['AvgScrRead'].isnull()]['NumTstTakr'].max())\n",
    "print(ca_act[ca_act['AvgScrEng'].isnull()]['NumTstTakr'].max())\n",
    "print(ca_act[ca_act['AvgScrMath'].isnull()]['NumTstTakr'].max())\n",
    "print(ca_act[ca_act['AvgScrSci'].isnull()]['NumTstTakr'].max())\n",
    "print(ca_act[ca_act['NumGE21'].isnull()]['NumTstTakr'].max())\n",
    "print(ca_act[ca_act['PctGE21'].isnull()]['NumTstTakr'].max())"
   ]
  },
  {
   "cell_type": "code",
   "execution_count": 119,
   "metadata": {},
   "outputs": [],
   "source": [
    "# Converting all asterisk average score values into NA \n",
    "ca_act['AvgScrRead'] = ca_act['AvgScrRead'].map(no_asterisks)\n",
    "ca_act['AvgScrEng'] = ca_act['AvgScrEng'].map(no_asterisks)\n",
    "ca_act['AvgScrMath'] = ca_act['AvgScrMath'].map(no_asterisks)\n",
    "ca_act['AvgScrSci'] = ca_act['AvgScrSci'].map(no_asterisks)\n",
    "ca_act['NumGE21'] = ca_act['NumGE21'].map(no_asterisks)\n",
    "ca_act['PctGE21'] = ca_act['PctGE21'].map(no_asterisks)"
   ]
  },
  {
   "cell_type": "code",
   "execution_count": 120,
   "metadata": {},
   "outputs": [],
   "source": [
    "# Take away all rows where the average scores were N/A (AvgScrRead is N/A on the same rows where other\n",
    "# score columns are NA)\n",
    "\n",
    "ca_act = ca_act[ca_act['AvgScrRead'].notna()]"
   ]
  },
  {
   "cell_type": "code",
   "execution_count": 122,
   "metadata": {},
   "outputs": [
    {
     "data": {
      "text/plain": [
       "SCode         0\n",
       "SName         0\n",
       "DName         0\n",
       "CName         0\n",
       "Enroll12      0\n",
       "NumTstTakr    0\n",
       "AvgScrRead    0\n",
       "AvgScrEng     0\n",
       "AvgScrMath    0\n",
       "AvgScrSci     0\n",
       "NumGE21       0\n",
       "PctGE21       0\n",
       "dtype: int64"
      ]
     },
     "execution_count": 122,
     "metadata": {},
     "output_type": "execute_result"
    }
   ],
   "source": [
    "# No more null values\n",
    "ca_act.isnull().sum()"
   ]
  },
  {
   "cell_type": "code",
   "execution_count": 123,
   "metadata": {},
   "outputs": [
    {
     "name": "stdout",
     "output_type": "stream",
     "text": [
      "<class 'pandas.core.frame.DataFrame'>\n",
      "Int64Index: 1016 entries, 3 to 2306\n",
      "Data columns (total 12 columns):\n",
      " #   Column      Non-Null Count  Dtype  \n",
      "---  ------      --------------  -----  \n",
      " 0   SCode       1016 non-null   float64\n",
      " 1   SName       1016 non-null   object \n",
      " 2   DName       1016 non-null   object \n",
      " 3   CName       1016 non-null   object \n",
      " 4   Enroll12    1016 non-null   float64\n",
      " 5   NumTstTakr  1016 non-null   float64\n",
      " 6   AvgScrRead  1016 non-null   float64\n",
      " 7   AvgScrEng   1016 non-null   float64\n",
      " 8   AvgScrMath  1016 non-null   float64\n",
      " 9   AvgScrSci   1016 non-null   float64\n",
      " 10  NumGE21     1016 non-null   float64\n",
      " 11  PctGE21     1016 non-null   float64\n",
      "dtypes: float64(9), object(3)\n",
      "memory usage: 103.2+ KB\n"
     ]
    }
   ],
   "source": [
    "# I have all the needed columns and they're the appropriate data types\n",
    "ca_act.info()"
   ]
  },
  {
   "cell_type": "code",
   "execution_count": 124,
   "metadata": {},
   "outputs": [],
   "source": [
    "# Change column names\n",
    "act_columns_dict = {\n",
    "    'SCode': 'school_code',\n",
    "    'SName': 'act_school',\n",
    "    'DName': 'act_district',\n",
    "    'CName': 'act_county',\n",
    "    'Enroll12': 'act_snrs_enrolled',\n",
    "    'NumTstTakr': 'act_testers',\n",
    "    'AvgScrRead': 'act_avg_read_scr',\n",
    "    'AvgScrEng': 'act_avg_eng_scr',\n",
    "    'AvgScrMath': 'act_avg_math_scr',\n",
    "    'AvgScrSci': 'act_avg_sci_scr',\n",
    "    'NumGE21': 'num_act_benchmark',\n",
    "    'PctGE21': 'pct_act_benchmark',\n",
    "}\n",
    "\n",
    "ca_act.rename(columns=act_columns_dict, inplace=True)"
   ]
  },
  {
   "cell_type": "code",
   "execution_count": 126,
   "metadata": {},
   "outputs": [
    {
     "data": {
      "text/plain": [
       "Index(['school_code', 'act_school', 'act_district', 'act_county',\n",
       "       'act_snrs_enrolled', 'act_testers', 'act_avg_read_scr',\n",
       "       'act_avg_eng_scr', 'act_avg_math_scr', 'act_avg_sci_scr',\n",
       "       'num_act_benchmark', 'pct_act_benchmark'],\n",
       "      dtype='object')"
      ]
     },
     "execution_count": 126,
     "metadata": {},
     "output_type": "execute_result"
    }
   ],
   "source": [
    "# Confirm column names look good\n",
    "ca_act.columns"
   ]
  },
  {
   "cell_type": "code",
   "execution_count": 127,
   "metadata": {},
   "outputs": [
    {
     "data": {
      "text/html": [
       "<div>\n",
       "<style scoped>\n",
       "    .dataframe tbody tr th:only-of-type {\n",
       "        vertical-align: middle;\n",
       "    }\n",
       "\n",
       "    .dataframe tbody tr th {\n",
       "        vertical-align: top;\n",
       "    }\n",
       "\n",
       "    .dataframe thead th {\n",
       "        text-align: right;\n",
       "    }\n",
       "</style>\n",
       "<table border=\"1\" class=\"dataframe\">\n",
       "  <thead>\n",
       "    <tr style=\"text-align: right;\">\n",
       "      <th></th>\n",
       "      <th>school_code</th>\n",
       "      <th>act_school</th>\n",
       "      <th>act_district</th>\n",
       "      <th>act_county</th>\n",
       "      <th>act_snrs_enrolled</th>\n",
       "      <th>act_testers</th>\n",
       "      <th>act_avg_read_scr</th>\n",
       "      <th>act_avg_eng_scr</th>\n",
       "      <th>act_avg_math_scr</th>\n",
       "      <th>act_avg_sci_scr</th>\n",
       "      <th>num_act_benchmark</th>\n",
       "      <th>pct_act_benchmark</th>\n",
       "    </tr>\n",
       "  </thead>\n",
       "  <tbody>\n",
       "    <tr>\n",
       "      <th>3</th>\n",
       "      <td>4333795.0</td>\n",
       "      <td>Abraham Lincoln High</td>\n",
       "      <td>San Jose Unified</td>\n",
       "      <td>Santa Clara</td>\n",
       "      <td>463.0</td>\n",
       "      <td>53.0</td>\n",
       "      <td>23.0</td>\n",
       "      <td>22.0</td>\n",
       "      <td>22.0</td>\n",
       "      <td>23.0</td>\n",
       "      <td>34.0</td>\n",
       "      <td>64.15</td>\n",
       "    </tr>\n",
       "  </tbody>\n",
       "</table>\n",
       "</div>"
      ],
      "text/plain": [
       "   school_code            act_school      act_district   act_county  \\\n",
       "3    4333795.0  Abraham Lincoln High  San Jose Unified  Santa Clara   \n",
       "\n",
       "   act_snrs_enrolled  act_testers  act_avg_read_scr  act_avg_eng_scr  \\\n",
       "3              463.0         53.0              23.0             22.0   \n",
       "\n",
       "   act_avg_math_scr  act_avg_sci_scr  num_act_benchmark  pct_act_benchmark  \n",
       "3              22.0             23.0               34.0              64.15  "
      ]
     },
     "execution_count": 127,
     "metadata": {},
     "output_type": "execute_result"
    }
   ],
   "source": [
    "ca_act.head(1)"
   ]
  },
  {
   "cell_type": "code",
   "execution_count": 128,
   "metadata": {},
   "outputs": [],
   "source": [
    "# Strategy for joining dfs: keep the SCode column and sort the dfs by SCode, then do an inner join. "
   ]
  },
  {
   "cell_type": "code",
   "execution_count": 129,
   "metadata": {},
   "outputs": [],
   "source": [
    "ca_sat.sort_values(['school_code'], axis=0, ascending=True, inplace=True)"
   ]
  },
  {
   "cell_type": "code",
   "execution_count": 130,
   "metadata": {},
   "outputs": [],
   "source": [
    "ca_act.sort_values(['school_code'], axis=0, ascending=True, inplace=True)"
   ]
  },
  {
   "cell_type": "code",
   "execution_count": 132,
   "metadata": {},
   "outputs": [],
   "source": [
    "ca_sat_act = pd.merge(ca_sat, ca_act, on='school_code', how='outer')"
   ]
  },
  {
   "cell_type": "code",
   "execution_count": 133,
   "metadata": {},
   "outputs": [
    {
     "data": {
      "text/plain": [
       "school_code            0\n",
       "sat_school            22\n",
       "sat_district          22\n",
       "sat_county            22\n",
       "sat_snrs_enrolled     22\n",
       "sat_snr_testers       22\n",
       "sat_num_erw_bm        22\n",
       "sat_pct_erw_bm        22\n",
       "sat_num_math_bm       22\n",
       "sat_pct_math_bm       22\n",
       "sat_num_both_bm       22\n",
       "sat_pct_both_bm       22\n",
       "act_school           267\n",
       "act_district         267\n",
       "act_county           267\n",
       "act_snrs_enrolled    267\n",
       "act_testers          267\n",
       "act_avg_read_scr     267\n",
       "act_avg_eng_scr      267\n",
       "act_avg_math_scr     267\n",
       "act_avg_sci_scr      267\n",
       "num_act_benchmark    267\n",
       "pct_act_benchmark    267\n",
       "dtype: int64"
      ]
     },
     "execution_count": 133,
     "metadata": {},
     "output_type": "execute_result"
    }
   ],
   "source": [
    "# After merging the datasets and summing null values per column, one can see there are 22 schools that took the ACT,\n",
    "# but not the SAT, and 267 schools that took the SAT, but not the ACT. \n",
    "ca_sat_act.isnull().sum()"
   ]
  },
  {
   "cell_type": "code",
   "execution_count": 134,
   "metadata": {},
   "outputs": [
    {
     "data": {
      "text/html": [
       "<div>\n",
       "<style scoped>\n",
       "    .dataframe tbody tr th:only-of-type {\n",
       "        vertical-align: middle;\n",
       "    }\n",
       "\n",
       "    .dataframe tbody tr th {\n",
       "        vertical-align: top;\n",
       "    }\n",
       "\n",
       "    .dataframe thead th {\n",
       "        text-align: right;\n",
       "    }\n",
       "</style>\n",
       "<table border=\"1\" class=\"dataframe\">\n",
       "  <thead>\n",
       "    <tr style=\"text-align: right;\">\n",
       "      <th></th>\n",
       "      <th>school_code</th>\n",
       "      <th>sat_school</th>\n",
       "      <th>sat_district</th>\n",
       "      <th>sat_county</th>\n",
       "      <th>sat_snrs_enrolled</th>\n",
       "      <th>sat_snr_testers</th>\n",
       "      <th>sat_num_erw_bm</th>\n",
       "      <th>sat_pct_erw_bm</th>\n",
       "      <th>sat_num_math_bm</th>\n",
       "      <th>sat_pct_math_bm</th>\n",
       "      <th>...</th>\n",
       "      <th>act_district</th>\n",
       "      <th>act_county</th>\n",
       "      <th>act_snrs_enrolled</th>\n",
       "      <th>act_testers</th>\n",
       "      <th>act_avg_read_scr</th>\n",
       "      <th>act_avg_eng_scr</th>\n",
       "      <th>act_avg_math_scr</th>\n",
       "      <th>act_avg_sci_scr</th>\n",
       "      <th>num_act_benchmark</th>\n",
       "      <th>pct_act_benchmark</th>\n",
       "    </tr>\n",
       "  </thead>\n",
       "  <tbody>\n",
       "    <tr>\n",
       "      <th>0</th>\n",
       "      <td>100065.0</td>\n",
       "      <td>Oakland Unity High</td>\n",
       "      <td>Oakland Unified</td>\n",
       "      <td>Alameda</td>\n",
       "      <td>81.0</td>\n",
       "      <td>35.0</td>\n",
       "      <td>18.0</td>\n",
       "      <td>51.43</td>\n",
       "      <td>15.0</td>\n",
       "      <td>42.86</td>\n",
       "      <td>...</td>\n",
       "      <td>Oakland Unified</td>\n",
       "      <td>Alameda</td>\n",
       "      <td>81.0</td>\n",
       "      <td>53.0</td>\n",
       "      <td>17.0</td>\n",
       "      <td>15.0</td>\n",
       "      <td>19.0</td>\n",
       "      <td>18.0</td>\n",
       "      <td>12.0</td>\n",
       "      <td>22.64</td>\n",
       "    </tr>\n",
       "    <tr>\n",
       "      <th>1</th>\n",
       "      <td>100081.0</td>\n",
       "      <td>William J. (Pete) Knight High</td>\n",
       "      <td>Antelope Valley Union High</td>\n",
       "      <td>Los Angeles</td>\n",
       "      <td>668.0</td>\n",
       "      <td>166.0</td>\n",
       "      <td>112.0</td>\n",
       "      <td>67.47</td>\n",
       "      <td>50.0</td>\n",
       "      <td>30.12</td>\n",
       "      <td>...</td>\n",
       "      <td>Antelope Valley Union High</td>\n",
       "      <td>Los Angeles</td>\n",
       "      <td>668.0</td>\n",
       "      <td>52.0</td>\n",
       "      <td>20.0</td>\n",
       "      <td>18.0</td>\n",
       "      <td>19.0</td>\n",
       "      <td>19.0</td>\n",
       "      <td>21.0</td>\n",
       "      <td>40.38</td>\n",
       "    </tr>\n",
       "    <tr>\n",
       "      <th>2</th>\n",
       "      <td>100198.0</td>\n",
       "      <td>Golden Valley High</td>\n",
       "      <td>Kern High</td>\n",
       "      <td>Kern</td>\n",
       "      <td>580.0</td>\n",
       "      <td>173.0</td>\n",
       "      <td>84.0</td>\n",
       "      <td>48.55</td>\n",
       "      <td>49.0</td>\n",
       "      <td>28.32</td>\n",
       "      <td>...</td>\n",
       "      <td>Kern High</td>\n",
       "      <td>Kern</td>\n",
       "      <td>580.0</td>\n",
       "      <td>22.0</td>\n",
       "      <td>21.0</td>\n",
       "      <td>18.0</td>\n",
       "      <td>19.0</td>\n",
       "      <td>20.0</td>\n",
       "      <td>8.0</td>\n",
       "      <td>36.36</td>\n",
       "    </tr>\n",
       "    <tr>\n",
       "      <th>3</th>\n",
       "      <td>100255.0</td>\n",
       "      <td>Desert Mirage High</td>\n",
       "      <td>Coachella Valley Unified</td>\n",
       "      <td>Riverside</td>\n",
       "      <td>459.0</td>\n",
       "      <td>125.0</td>\n",
       "      <td>57.0</td>\n",
       "      <td>45.60</td>\n",
       "      <td>23.0</td>\n",
       "      <td>18.40</td>\n",
       "      <td>...</td>\n",
       "      <td>Coachella Valley Unified</td>\n",
       "      <td>Riverside</td>\n",
       "      <td>459.0</td>\n",
       "      <td>97.0</td>\n",
       "      <td>17.0</td>\n",
       "      <td>16.0</td>\n",
       "      <td>17.0</td>\n",
       "      <td>17.0</td>\n",
       "      <td>12.0</td>\n",
       "      <td>12.37</td>\n",
       "    </tr>\n",
       "    <tr>\n",
       "      <th>4</th>\n",
       "      <td>100354.0</td>\n",
       "      <td>Hawthorne Math and Science Academy</td>\n",
       "      <td>Hawthorne</td>\n",
       "      <td>Los Angeles</td>\n",
       "      <td>112.0</td>\n",
       "      <td>64.0</td>\n",
       "      <td>55.0</td>\n",
       "      <td>85.94</td>\n",
       "      <td>42.0</td>\n",
       "      <td>65.63</td>\n",
       "      <td>...</td>\n",
       "      <td>Hawthorne</td>\n",
       "      <td>Los Angeles</td>\n",
       "      <td>112.0</td>\n",
       "      <td>112.0</td>\n",
       "      <td>20.0</td>\n",
       "      <td>20.0</td>\n",
       "      <td>21.0</td>\n",
       "      <td>19.0</td>\n",
       "      <td>49.0</td>\n",
       "      <td>43.75</td>\n",
       "    </tr>\n",
       "    <tr>\n",
       "      <th>...</th>\n",
       "      <td>...</td>\n",
       "      <td>...</td>\n",
       "      <td>...</td>\n",
       "      <td>...</td>\n",
       "      <td>...</td>\n",
       "      <td>...</td>\n",
       "      <td>...</td>\n",
       "      <td>...</td>\n",
       "      <td>...</td>\n",
       "      <td>...</td>\n",
       "      <td>...</td>\n",
       "      <td>...</td>\n",
       "      <td>...</td>\n",
       "      <td>...</td>\n",
       "      <td>...</td>\n",
       "      <td>...</td>\n",
       "      <td>...</td>\n",
       "      <td>...</td>\n",
       "      <td>...</td>\n",
       "      <td>...</td>\n",
       "      <td>...</td>\n",
       "    </tr>\n",
       "    <tr>\n",
       "      <th>1250</th>\n",
       "      <td>6061634.0</td>\n",
       "      <td>Fremont Academy of Engineering and Design</td>\n",
       "      <td>Pomona Unified</td>\n",
       "      <td>Los Angeles</td>\n",
       "      <td>90.0</td>\n",
       "      <td>43.0</td>\n",
       "      <td>22.0</td>\n",
       "      <td>51.16</td>\n",
       "      <td>9.0</td>\n",
       "      <td>20.93</td>\n",
       "      <td>...</td>\n",
       "      <td>Pomona Unified</td>\n",
       "      <td>Los Angeles</td>\n",
       "      <td>90.0</td>\n",
       "      <td>19.0</td>\n",
       "      <td>19.0</td>\n",
       "      <td>17.0</td>\n",
       "      <td>18.0</td>\n",
       "      <td>18.0</td>\n",
       "      <td>6.0</td>\n",
       "      <td>31.58</td>\n",
       "    </tr>\n",
       "    <tr>\n",
       "      <th>1252</th>\n",
       "      <td>6061964.0</td>\n",
       "      <td>The O'Farrell Charter</td>\n",
       "      <td>San Diego Unified</td>\n",
       "      <td>San Diego</td>\n",
       "      <td>125.0</td>\n",
       "      <td>64.0</td>\n",
       "      <td>44.0</td>\n",
       "      <td>68.75</td>\n",
       "      <td>33.0</td>\n",
       "      <td>51.56</td>\n",
       "      <td>...</td>\n",
       "      <td>San Diego Unified</td>\n",
       "      <td>San Diego</td>\n",
       "      <td>125.0</td>\n",
       "      <td>97.0</td>\n",
       "      <td>19.0</td>\n",
       "      <td>18.0</td>\n",
       "      <td>19.0</td>\n",
       "      <td>20.0</td>\n",
       "      <td>27.0</td>\n",
       "      <td>27.84</td>\n",
       "    </tr>\n",
       "    <tr>\n",
       "      <th>1254</th>\n",
       "      <td>6114698.0</td>\n",
       "      <td>Cobalt Institute of Math and Science Academy</td>\n",
       "      <td>Victor Valley Union High</td>\n",
       "      <td>San Bernardino</td>\n",
       "      <td>103.0</td>\n",
       "      <td>60.0</td>\n",
       "      <td>35.0</td>\n",
       "      <td>58.33</td>\n",
       "      <td>15.0</td>\n",
       "      <td>25.00</td>\n",
       "      <td>...</td>\n",
       "      <td>Victor Valley Union High</td>\n",
       "      <td>San Bernardino</td>\n",
       "      <td>103.0</td>\n",
       "      <td>19.0</td>\n",
       "      <td>20.0</td>\n",
       "      <td>18.0</td>\n",
       "      <td>19.0</td>\n",
       "      <td>19.0</td>\n",
       "      <td>7.0</td>\n",
       "      <td>36.84</td>\n",
       "    </tr>\n",
       "    <tr>\n",
       "      <th>1257</th>\n",
       "      <td>6116750.0</td>\n",
       "      <td>PUC Community Charter Middle and PUC Community...</td>\n",
       "      <td>Los Angeles Unified</td>\n",
       "      <td>Los Angeles</td>\n",
       "      <td>89.0</td>\n",
       "      <td>62.0</td>\n",
       "      <td>27.0</td>\n",
       "      <td>43.55</td>\n",
       "      <td>16.0</td>\n",
       "      <td>25.81</td>\n",
       "      <td>...</td>\n",
       "      <td>Los Angeles Unified</td>\n",
       "      <td>Los Angeles</td>\n",
       "      <td>89.0</td>\n",
       "      <td>83.0</td>\n",
       "      <td>17.0</td>\n",
       "      <td>16.0</td>\n",
       "      <td>18.0</td>\n",
       "      <td>18.0</td>\n",
       "      <td>20.0</td>\n",
       "      <td>24.10</td>\n",
       "    </tr>\n",
       "    <tr>\n",
       "      <th>1259</th>\n",
       "      <td>6120158.0</td>\n",
       "      <td>New West Charter</td>\n",
       "      <td>SBE - New West Charter</td>\n",
       "      <td>Los Angeles</td>\n",
       "      <td>90.0</td>\n",
       "      <td>47.0</td>\n",
       "      <td>43.0</td>\n",
       "      <td>91.49</td>\n",
       "      <td>33.0</td>\n",
       "      <td>70.21</td>\n",
       "      <td>...</td>\n",
       "      <td>SBE - New West Charter</td>\n",
       "      <td>Los Angeles</td>\n",
       "      <td>90.0</td>\n",
       "      <td>19.0</td>\n",
       "      <td>27.0</td>\n",
       "      <td>28.0</td>\n",
       "      <td>24.0</td>\n",
       "      <td>25.0</td>\n",
       "      <td>16.0</td>\n",
       "      <td>84.21</td>\n",
       "    </tr>\n",
       "  </tbody>\n",
       "</table>\n",
       "<p>994 rows × 23 columns</p>\n",
       "</div>"
      ],
      "text/plain": [
       "      school_code                                         sat_school  \\\n",
       "0        100065.0                                 Oakland Unity High   \n",
       "1        100081.0                      William J. (Pete) Knight High   \n",
       "2        100198.0                                 Golden Valley High   \n",
       "3        100255.0                                 Desert Mirage High   \n",
       "4        100354.0                 Hawthorne Math and Science Academy   \n",
       "...           ...                                                ...   \n",
       "1250    6061634.0          Fremont Academy of Engineering and Design   \n",
       "1252    6061964.0                              The O'Farrell Charter   \n",
       "1254    6114698.0       Cobalt Institute of Math and Science Academy   \n",
       "1257    6116750.0  PUC Community Charter Middle and PUC Community...   \n",
       "1259    6120158.0                                   New West Charter   \n",
       "\n",
       "                    sat_district      sat_county  sat_snrs_enrolled  \\\n",
       "0                Oakland Unified         Alameda               81.0   \n",
       "1     Antelope Valley Union High     Los Angeles              668.0   \n",
       "2                      Kern High            Kern              580.0   \n",
       "3       Coachella Valley Unified       Riverside              459.0   \n",
       "4                      Hawthorne     Los Angeles              112.0   \n",
       "...                          ...             ...                ...   \n",
       "1250              Pomona Unified     Los Angeles               90.0   \n",
       "1252           San Diego Unified       San Diego              125.0   \n",
       "1254    Victor Valley Union High  San Bernardino              103.0   \n",
       "1257         Los Angeles Unified     Los Angeles               89.0   \n",
       "1259      SBE - New West Charter     Los Angeles               90.0   \n",
       "\n",
       "      sat_snr_testers  sat_num_erw_bm  sat_pct_erw_bm  sat_num_math_bm  \\\n",
       "0                35.0            18.0           51.43             15.0   \n",
       "1               166.0           112.0           67.47             50.0   \n",
       "2               173.0            84.0           48.55             49.0   \n",
       "3               125.0            57.0           45.60             23.0   \n",
       "4                64.0            55.0           85.94             42.0   \n",
       "...               ...             ...             ...              ...   \n",
       "1250             43.0            22.0           51.16              9.0   \n",
       "1252             64.0            44.0           68.75             33.0   \n",
       "1254             60.0            35.0           58.33             15.0   \n",
       "1257             62.0            27.0           43.55             16.0   \n",
       "1259             47.0            43.0           91.49             33.0   \n",
       "\n",
       "      sat_pct_math_bm  ...                act_district      act_county  \\\n",
       "0               42.86  ...             Oakland Unified         Alameda   \n",
       "1               30.12  ...  Antelope Valley Union High     Los Angeles   \n",
       "2               28.32  ...                   Kern High            Kern   \n",
       "3               18.40  ...    Coachella Valley Unified       Riverside   \n",
       "4               65.63  ...                   Hawthorne     Los Angeles   \n",
       "...               ...  ...                         ...             ...   \n",
       "1250            20.93  ...              Pomona Unified     Los Angeles   \n",
       "1252            51.56  ...           San Diego Unified       San Diego   \n",
       "1254            25.00  ...    Victor Valley Union High  San Bernardino   \n",
       "1257            25.81  ...         Los Angeles Unified     Los Angeles   \n",
       "1259            70.21  ...      SBE - New West Charter     Los Angeles   \n",
       "\n",
       "     act_snrs_enrolled act_testers act_avg_read_scr  act_avg_eng_scr  \\\n",
       "0                 81.0        53.0             17.0             15.0   \n",
       "1                668.0        52.0             20.0             18.0   \n",
       "2                580.0        22.0             21.0             18.0   \n",
       "3                459.0        97.0             17.0             16.0   \n",
       "4                112.0       112.0             20.0             20.0   \n",
       "...                ...         ...              ...              ...   \n",
       "1250              90.0        19.0             19.0             17.0   \n",
       "1252             125.0        97.0             19.0             18.0   \n",
       "1254             103.0        19.0             20.0             18.0   \n",
       "1257              89.0        83.0             17.0             16.0   \n",
       "1259              90.0        19.0             27.0             28.0   \n",
       "\n",
       "      act_avg_math_scr  act_avg_sci_scr  num_act_benchmark  pct_act_benchmark  \n",
       "0                 19.0             18.0               12.0              22.64  \n",
       "1                 19.0             19.0               21.0              40.38  \n",
       "2                 19.0             20.0                8.0              36.36  \n",
       "3                 17.0             17.0               12.0              12.37  \n",
       "4                 21.0             19.0               49.0              43.75  \n",
       "...                ...              ...                ...                ...  \n",
       "1250              18.0             18.0                6.0              31.58  \n",
       "1252              19.0             20.0               27.0              27.84  \n",
       "1254              19.0             19.0                7.0              36.84  \n",
       "1257              18.0             18.0               20.0              24.10  \n",
       "1259              24.0             25.0               16.0              84.21  \n",
       "\n",
       "[994 rows x 23 columns]"
      ]
     },
     "execution_count": 134,
     "metadata": {},
     "output_type": "execute_result"
    }
   ],
   "source": [
    "# There are 994 schools with both SAT and ACT data, including benchmark numbers. These are the schools the analysis \n",
    "# will focus on.\n",
    "\n",
    "ca_sat_act[ca_sat_act['act_school'].notna() & (ca_sat_act['sat_school'].notna())]"
   ]
  },
  {
   "cell_type": "code",
   "execution_count": 135,
   "metadata": {},
   "outputs": [],
   "source": [
    "# Narrowing the merged dataset down to those 994 schools called out above\n",
    "ca_sat_act = ca_sat_act.dropna()"
   ]
  },
  {
   "cell_type": "code",
   "execution_count": 136,
   "metadata": {},
   "outputs": [
    {
     "data": {
      "text/plain": [
       "school_code          994\n",
       "sat_school           994\n",
       "sat_district         994\n",
       "sat_county           994\n",
       "sat_snrs_enrolled    994\n",
       "sat_snr_testers      994\n",
       "sat_num_erw_bm       994\n",
       "sat_pct_erw_bm       994\n",
       "sat_num_math_bm      994\n",
       "sat_pct_math_bm      994\n",
       "sat_num_both_bm      994\n",
       "sat_pct_both_bm      994\n",
       "act_school           994\n",
       "act_district         994\n",
       "act_county           994\n",
       "act_snrs_enrolled    994\n",
       "act_testers          994\n",
       "act_avg_read_scr     994\n",
       "act_avg_eng_scr      994\n",
       "act_avg_math_scr     994\n",
       "act_avg_sci_scr      994\n",
       "num_act_benchmark    994\n",
       "pct_act_benchmark    994\n",
       "dtype: int64"
      ]
     },
     "execution_count": 136,
     "metadata": {},
     "output_type": "execute_result"
    }
   ],
   "source": [
    "# Confirming there are now 994 rows\n",
    "ca_sat_act.count()"
   ]
  },
  {
   "cell_type": "code",
   "execution_count": 137,
   "metadata": {},
   "outputs": [
    {
     "data": {
      "text/html": [
       "<div>\n",
       "<style scoped>\n",
       "    .dataframe tbody tr th:only-of-type {\n",
       "        vertical-align: middle;\n",
       "    }\n",
       "\n",
       "    .dataframe tbody tr th {\n",
       "        vertical-align: top;\n",
       "    }\n",
       "\n",
       "    .dataframe thead th {\n",
       "        text-align: right;\n",
       "    }\n",
       "</style>\n",
       "<table border=\"1\" class=\"dataframe\">\n",
       "  <thead>\n",
       "    <tr style=\"text-align: right;\">\n",
       "      <th></th>\n",
       "      <th>sat_school</th>\n",
       "      <th>act_school</th>\n",
       "      <th>sat_district</th>\n",
       "      <th>act_district</th>\n",
       "      <th>sat_county</th>\n",
       "      <th>act_county</th>\n",
       "    </tr>\n",
       "  </thead>\n",
       "  <tbody>\n",
       "    <tr>\n",
       "      <th>7</th>\n",
       "      <td>Lennox Mathematics, Science and Technology Aca...</td>\n",
       "      <td>Lennox Mathematics Science and Technology Academy</td>\n",
       "      <td>Lennox</td>\n",
       "      <td>Lennox</td>\n",
       "      <td>Los Angeles</td>\n",
       "      <td>Los Angeles</td>\n",
       "    </tr>\n",
       "    <tr>\n",
       "      <th>243</th>\n",
       "      <td>Math, Science, &amp; Technology Magnet Academy at ...</td>\n",
       "      <td>Math Science &amp; Technology Magnet Academy at Ro...</td>\n",
       "      <td>Los Angeles Unified</td>\n",
       "      <td>Los Angeles Unified</td>\n",
       "      <td>Los Angeles</td>\n",
       "      <td>Los Angeles</td>\n",
       "    </tr>\n",
       "    <tr>\n",
       "      <th>297</th>\n",
       "      <td>Hilda L. Solis Learning Academy School of Tech...</td>\n",
       "      <td>Hilda L. Solis Learning Academy School of Tech...</td>\n",
       "      <td>Los Angeles Unified</td>\n",
       "      <td>Los Angeles Unified</td>\n",
       "      <td>Los Angeles</td>\n",
       "      <td>Los Angeles</td>\n",
       "    </tr>\n",
       "    <tr>\n",
       "      <th>304</th>\n",
       "      <td>Science, Technology, Engineering, Arts and Mat...</td>\n",
       "      <td>Science Technology Engineering Arts and Mathem...</td>\n",
       "      <td>Los Angeles Unified</td>\n",
       "      <td>Los Angeles Unified</td>\n",
       "      <td>Los Angeles</td>\n",
       "      <td>Los Angeles</td>\n",
       "    </tr>\n",
       "    <tr>\n",
       "      <th>315</th>\n",
       "      <td>Ernest S. McBride, Sr. High</td>\n",
       "      <td>Ernest S. McBride Sr. High</td>\n",
       "      <td>Long Beach Unified</td>\n",
       "      <td>Long Beach Unified</td>\n",
       "      <td>Los Angeles</td>\n",
       "      <td>Los Angeles</td>\n",
       "    </tr>\n",
       "    <tr>\n",
       "      <th>552</th>\n",
       "      <td>Crenshaw Science, Technology, Engineering, Mat...</td>\n",
       "      <td>Crenshaw Science Technology Engineering Math a...</td>\n",
       "      <td>Los Angeles Unified</td>\n",
       "      <td>Los Angeles Unified</td>\n",
       "      <td>Los Angeles</td>\n",
       "      <td>Los Angeles</td>\n",
       "    </tr>\n",
       "    <tr>\n",
       "      <th>1026</th>\n",
       "      <td>Asawa (Ruth) SF Sch of the Arts, A Public School</td>\n",
       "      <td>Asawa (Ruth) SF Sch of the Arts A Public School</td>\n",
       "      <td>San Francisco Unified</td>\n",
       "      <td>San Francisco Unified</td>\n",
       "      <td>San Francisco</td>\n",
       "      <td>San Francisco</td>\n",
       "    </tr>\n",
       "  </tbody>\n",
       "</table>\n",
       "</div>"
      ],
      "text/plain": [
       "                                             sat_school  \\\n",
       "7     Lennox Mathematics, Science and Technology Aca...   \n",
       "243   Math, Science, & Technology Magnet Academy at ...   \n",
       "297   Hilda L. Solis Learning Academy School of Tech...   \n",
       "304   Science, Technology, Engineering, Arts and Mat...   \n",
       "315                         Ernest S. McBride, Sr. High   \n",
       "552   Crenshaw Science, Technology, Engineering, Mat...   \n",
       "1026   Asawa (Ruth) SF Sch of the Arts, A Public School   \n",
       "\n",
       "                                             act_school  \\\n",
       "7     Lennox Mathematics Science and Technology Academy   \n",
       "243   Math Science & Technology Magnet Academy at Ro...   \n",
       "297   Hilda L. Solis Learning Academy School of Tech...   \n",
       "304   Science Technology Engineering Arts and Mathem...   \n",
       "315                          Ernest S. McBride Sr. High   \n",
       "552   Crenshaw Science Technology Engineering Math a...   \n",
       "1026    Asawa (Ruth) SF Sch of the Arts A Public School   \n",
       "\n",
       "               sat_district           act_district     sat_county  \\\n",
       "7                    Lennox                 Lennox    Los Angeles   \n",
       "243     Los Angeles Unified    Los Angeles Unified    Los Angeles   \n",
       "297     Los Angeles Unified    Los Angeles Unified    Los Angeles   \n",
       "304     Los Angeles Unified    Los Angeles Unified    Los Angeles   \n",
       "315      Long Beach Unified     Long Beach Unified    Los Angeles   \n",
       "552     Los Angeles Unified    Los Angeles Unified    Los Angeles   \n",
       "1026  San Francisco Unified  San Francisco Unified  San Francisco   \n",
       "\n",
       "         act_county  \n",
       "7       Los Angeles  \n",
       "243     Los Angeles  \n",
       "297     Los Angeles  \n",
       "304     Los Angeles  \n",
       "315     Los Angeles  \n",
       "552     Los Angeles  \n",
       "1026  San Francisco  "
      ]
     },
     "execution_count": 137,
     "metadata": {},
     "output_type": "execute_result"
    }
   ],
   "source": [
    "# Checking to make sure all schools, districts, and counties are the same in the SAT vs ACT columns. Since the only\n",
    "# differences include a few commas, I will combine these columns so that they're simply called 'school', 'district',\n",
    "# and 'county'. \n",
    "ca_sat_act.loc[\n",
    "    \n",
    "    ca_sat_act['sat_school'] != ca_sat_act['act_school'], \n",
    "    ['sat_school', 'act_school', 'sat_district', 'act_district', 'sat_county', 'act_county']\n",
    "    ]"
   ]
  },
  {
   "cell_type": "code",
   "execution_count": 140,
   "metadata": {},
   "outputs": [
    {
     "data": {
      "text/html": [
       "<div>\n",
       "<style scoped>\n",
       "    .dataframe tbody tr th:only-of-type {\n",
       "        vertical-align: middle;\n",
       "    }\n",
       "\n",
       "    .dataframe tbody tr th {\n",
       "        vertical-align: top;\n",
       "    }\n",
       "\n",
       "    .dataframe thead th {\n",
       "        text-align: right;\n",
       "    }\n",
       "</style>\n",
       "<table border=\"1\" class=\"dataframe\">\n",
       "  <thead>\n",
       "    <tr style=\"text-align: right;\">\n",
       "      <th></th>\n",
       "      <th>school_code</th>\n",
       "      <th>sat_school</th>\n",
       "      <th>sat_district</th>\n",
       "      <th>sat_county</th>\n",
       "      <th>sat_snrs_enrolled</th>\n",
       "      <th>sat_snr_testers</th>\n",
       "      <th>sat_num_erw_bm</th>\n",
       "      <th>sat_pct_erw_bm</th>\n",
       "      <th>sat_num_math_bm</th>\n",
       "      <th>sat_pct_math_bm</th>\n",
       "      <th>...</th>\n",
       "      <th>act_district</th>\n",
       "      <th>act_county</th>\n",
       "      <th>act_snrs_enrolled</th>\n",
       "      <th>act_testers</th>\n",
       "      <th>act_avg_read_scr</th>\n",
       "      <th>act_avg_eng_scr</th>\n",
       "      <th>act_avg_math_scr</th>\n",
       "      <th>act_avg_sci_scr</th>\n",
       "      <th>num_act_benchmark</th>\n",
       "      <th>pct_act_benchmark</th>\n",
       "    </tr>\n",
       "  </thead>\n",
       "  <tbody>\n",
       "  </tbody>\n",
       "</table>\n",
       "<p>0 rows × 23 columns</p>\n",
       "</div>"
      ],
      "text/plain": [
       "Empty DataFrame\n",
       "Columns: [school_code, sat_school, sat_district, sat_county, sat_snrs_enrolled, sat_snr_testers, sat_num_erw_bm, sat_pct_erw_bm, sat_num_math_bm, sat_pct_math_bm, sat_num_both_bm, sat_pct_both_bm, act_school, act_district, act_county, act_snrs_enrolled, act_testers, act_avg_read_scr, act_avg_eng_scr, act_avg_math_scr, act_avg_sci_scr, num_act_benchmark, pct_act_benchmark]\n",
       "Index: []\n",
       "\n",
       "[0 rows x 23 columns]"
      ]
     },
     "execution_count": 140,
     "metadata": {},
     "output_type": "execute_result"
    }
   ],
   "source": [
    "# Districts from SAT and ACT dataframes are all equal in merged dataframe\n",
    "ca_sat_act[ca_sat_act['sat_district'] != ca_sat_act['act_district']]"
   ]
  },
  {
   "cell_type": "code",
   "execution_count": 141,
   "metadata": {},
   "outputs": [
    {
     "data": {
      "text/html": [
       "<div>\n",
       "<style scoped>\n",
       "    .dataframe tbody tr th:only-of-type {\n",
       "        vertical-align: middle;\n",
       "    }\n",
       "\n",
       "    .dataframe tbody tr th {\n",
       "        vertical-align: top;\n",
       "    }\n",
       "\n",
       "    .dataframe thead th {\n",
       "        text-align: right;\n",
       "    }\n",
       "</style>\n",
       "<table border=\"1\" class=\"dataframe\">\n",
       "  <thead>\n",
       "    <tr style=\"text-align: right;\">\n",
       "      <th></th>\n",
       "      <th>school_code</th>\n",
       "      <th>sat_school</th>\n",
       "      <th>sat_district</th>\n",
       "      <th>sat_county</th>\n",
       "      <th>sat_snrs_enrolled</th>\n",
       "      <th>sat_snr_testers</th>\n",
       "      <th>sat_num_erw_bm</th>\n",
       "      <th>sat_pct_erw_bm</th>\n",
       "      <th>sat_num_math_bm</th>\n",
       "      <th>sat_pct_math_bm</th>\n",
       "      <th>...</th>\n",
       "      <th>act_district</th>\n",
       "      <th>act_county</th>\n",
       "      <th>act_snrs_enrolled</th>\n",
       "      <th>act_testers</th>\n",
       "      <th>act_avg_read_scr</th>\n",
       "      <th>act_avg_eng_scr</th>\n",
       "      <th>act_avg_math_scr</th>\n",
       "      <th>act_avg_sci_scr</th>\n",
       "      <th>num_act_benchmark</th>\n",
       "      <th>pct_act_benchmark</th>\n",
       "    </tr>\n",
       "  </thead>\n",
       "  <tbody>\n",
       "  </tbody>\n",
       "</table>\n",
       "<p>0 rows × 23 columns</p>\n",
       "</div>"
      ],
      "text/plain": [
       "Empty DataFrame\n",
       "Columns: [school_code, sat_school, sat_district, sat_county, sat_snrs_enrolled, sat_snr_testers, sat_num_erw_bm, sat_pct_erw_bm, sat_num_math_bm, sat_pct_math_bm, sat_num_both_bm, sat_pct_both_bm, act_school, act_district, act_county, act_snrs_enrolled, act_testers, act_avg_read_scr, act_avg_eng_scr, act_avg_math_scr, act_avg_sci_scr, num_act_benchmark, pct_act_benchmark]\n",
       "Index: []\n",
       "\n",
       "[0 rows x 23 columns]"
      ]
     },
     "execution_count": 141,
     "metadata": {},
     "output_type": "execute_result"
    }
   ],
   "source": [
    "# Counties from SAT and ACT dataframes are all equal in merged dataframe\n",
    "ca_sat_act[ca_sat_act['sat_county'] != ca_sat_act['act_county']]"
   ]
  },
  {
   "cell_type": "code",
   "execution_count": 142,
   "metadata": {},
   "outputs": [],
   "source": [
    "# Combining ACT and SAT enrollment, school, district, and county columns into three generic school, district, \n",
    "# and county colummns\n",
    "ca_sat_act.drop(columns=['act_snrs_enrolled', 'act_school', 'act_district', 'act_county', 'school_code'], axis=1, inplace=True)\n",
    "ca_sat_act.rename(columns= {'sat_snrs_enrolled':'snr_enroll', 'sat_school':'school', 'sat_district':'district', 'sat_county':'county'}, inplace=True)"
   ]
  },
  {
   "cell_type": "code",
   "execution_count": 143,
   "metadata": {},
   "outputs": [],
   "source": [
    "# Adding columns for SAT and ACT participation rates\n",
    "ca_sat_act['sat_pct_participation'] = (ca_sat_act['sat_snr_testers'] / ca_sat_act['snr_enroll']) * 100\n",
    "ca_sat_act['act_pct_participation'] = (ca_sat_act['act_testers'] / ca_sat_act['snr_enroll']) * 100"
   ]
  },
  {
   "cell_type": "code",
   "execution_count": 144,
   "metadata": {},
   "outputs": [],
   "source": [
    "# Saved cleaned-up merged dataframe as a CSV file in the project's data folder\n",
    "ca_sat_act.to_csv(r'../data/ca_sat_act_19.csv')"
   ]
  },
  {
   "cell_type": "markdown",
   "metadata": {},
   "source": [
    "### Data Dictionary\n",
    "\n",
    "Now that we've fixed our data, and given it appropriate names, let's create a [data dictionary](http://library.ucmerced.edu/node/10249). \n",
    "\n",
    "A data dictionary provides a quick overview of features/variables/columns, alongside data types and descriptions. The more descriptive you can be, the more useful this document is.\n",
    "\n",
    "Example of a Fictional Data Dictionary Entry: \n",
    "\n",
    "|Feature|Type|Dataset|Description|\n",
    "|---|---|---|---|\n",
    "|**county_pop**|*integer*|2010 census|The population of the county (units in thousands, where 2.5 represents 2500 people).| \n",
    "|**per_poverty**|*float*|2010 census|The percent of the county over the age of 18 living below the 200% of official US poverty rate (units percent to two decimal places 98.10 means 98.1%)|\n",
    "\n",
    "[Here's a quick link to a short guide for formatting markdown in Jupyter notebooks](https://jupyter-notebook.readthedocs.io/en/stable/examples/Notebook/Working%20With%20Markdown%20Cells.html).\n",
    "\n",
    "Provided is the skeleton for formatting a markdown table, with columns headers that will help you create a data dictionary to quickly summarize your data, as well as some examples. **This would be a great thing to copy and paste into your custom README for this project.**\n",
    "\n",
    "*Note*: if you are unsure of what a feature is, check the source of the data! This can be found in the README."
   ]
  },
  {
   "cell_type": "markdown",
   "metadata": {},
   "source": [
    "|Feature|Type|Dataset|Description|\n",
    "|---|---|---|---|\n",
    "|**school**|*object*|ca_sat|CA school name| \n",
    "|**district**|*object*|ca_sat|CA district name| \n",
    "|**county**|*object*|ca_sat|CA county name| \n",
    "|**snr_enroll**|*float*|ca_sat|Senior enrollment size| \n",
    "|**sat_snr_testers**|*float*|ca_sat|Number of senior SAT testers| \n",
    "|**sat_num_erw_bm**|*float*|ca_sat|Number of seniors meeting the Evidence-Based Reading & Writing (ERW) SAT benchmark| \n",
    "|**sat_pct_erw_bm**|*float*|ca_sat|Percent of seniors meeting the Evidence-Based Reading & Writing (ERW) SAT benchmark| \n",
    "|**sat_num_math_bm**|*float*|ca_sat|Number of seniors meeting the Math SAT benchmark| \n",
    "|**sat_pct_math_bm**|*float*|ca_sat|Percent of seniors meeting the Math SAT benchmark| \n",
    "|**sat_num_both_bm**|*float*|ca_sat|Number of seniors meeting both the ERW and Math SAT benchmarks| \n",
    "|**sat_pct_both_bm**|*float*|ca_sat|Percent of seniors meeting both the ERW and Math SAT benchmarks| \n",
    "|**sat_pct_participation**|*float*|ca_act|CA SAT participation for senior grade| \n",
    "|**act_snr_testers**|*float*|ca_act|Number of senior ACT testers| \n",
    "|**act_avg_read_scr**|*float*|ca_act|Average senior ACT Reading test score| \n",
    "|**act_avg_eng_scr**|*float*|ca_act|Average senior ACT English test score| \n",
    "|**act_avg_math_scr**|*float*|ca_act|Average senior ACT Math test score| \n",
    "|**act_avg_sci_scr**|*float*|ca_act|Average senior ACT Science test score| \n",
    "|**num_act_benchmark**|*float*|ca_act|Number of senior testers whose ACT composite scores are at least 21 points| \n",
    "|**pct_act_benchmark**|*float*|ca_act|Percent of senior testers whose ACT composite scores are at least 21 points| \n",
    "|**act_pct_participation**|*float*|ca_act|CA ACT participation for senior grade| "
   ]
  },
  {
   "cell_type": "markdown",
   "metadata": {},
   "source": [
    "## Exploratory Data Analysis\n",
    "\n",
    "Complete the following steps to explore your data. You are welcome to do more EDA than the steps outlined here as you feel necessary:\n",
    "1. Summary Statistics.\n",
    "2. Use a **dictionary comprehension** to apply the standard deviation function you create in part 1 to each numeric column in the dataframe.  **No loops**.\n",
    "    - Assign the output to variable `sd` as a dictionary where: \n",
    "        - Each column name is now a key \n",
    "        - That standard deviation of the column is the value \n",
    "        - *Example Output :* `{'ACT_Math': 120, 'ACT_Reading': 120, ...}`\n",
    "3. Investigate trends in the data.\n",
    "    - Using sorting and/or masking (along with the `.head()` method to avoid printing our entire dataframe), consider questions relevant to your problem statement. Some examples are provided below (but feel free to change these questions for your specific problem):\n",
    "        - Which states have the highest and lowest participation rates for the 2017, 2019, or 2019 SAT and ACT?\n",
    "        - Which states have the highest and lowest mean total/composite scores for the 2017, 2019, or 2019 SAT and ACT?\n",
    "        - Do any states with 100% participation on a given test have a rate change year-to-year?\n",
    "        - Do any states show have >50% participation on *both* tests each year?\n",
    "        - Which colleges have the highest median SAT and ACT scores for admittance?\n",
    "        - Which California school districts have the highest and lowest mean test scores?\n",
    "    - **You should comment on your findings at each step in a markdown cell below your code block**. Make sure you include at least one example of sorting your dataframe by a column, and one example of using boolean filtering (i.e., masking) to select a subset of the dataframe."
   ]
  },
  {
   "cell_type": "code",
   "execution_count": 146,
   "metadata": {},
   "outputs": [
    {
     "data": {
      "text/plain": [
       "{'snr_enroll': 203.19176461493845,\n",
       " 'sat_snr_testers': 106.91402487828394,\n",
       " 'sat_num_erw_bm': 77.30499276009962,\n",
       " 'sat_pct_erw_bm': 19.5309153944152,\n",
       " 'sat_num_math_bm': 65.28933528936736,\n",
       " 'sat_pct_math_bm': 23.082834286284363,\n",
       " 'sat_num_both_bm': 63.179503236123274,\n",
       " 'sat_pct_both_bm': 23.184722700521984,\n",
       " 'act_testers': 66.8993819151169,\n",
       " 'act_avg_read_scr': 3.7762034104006514,\n",
       " 'act_avg_eng_scr': 4.149710135309907,\n",
       " 'act_avg_math_scr': 3.4641740727047483,\n",
       " 'act_avg_sci_scr': 3.2932573676356656,\n",
       " 'num_act_benchmark': 50.33277438361061,\n",
       " 'pct_act_benchmark': 26.236814122477185,\n",
       " 'sat_pct_participation': 18.197792456015463,\n",
       " 'act_pct_participation': 23.547005917939135}"
      ]
     },
     "execution_count": 146,
     "metadata": {},
     "output_type": "execute_result"
    }
   ],
   "source": [
    "sd = {value : get_std(ca_sat_act[value]) for value in list(ca_sat_act.columns) if ca_sat_act[value].dtypes == 'float64'}\n",
    "sd"
   ]
  },
  {
   "cell_type": "markdown",
   "metadata": {},
   "source": [
    "### What were the average participation rates for SAT and ACT last year?"
   ]
  },
  {
   "cell_type": "code",
   "execution_count": 147,
   "metadata": {},
   "outputs": [
    {
     "name": "stdout",
     "output_type": "stream",
     "text": [
      "42.607926553985344\n",
      "25.745284408581202\n"
     ]
    }
   ],
   "source": [
    "# Calculating average senior participation rates for the SAT and ACT rates across CA schools\n",
    "\n",
    "avg_participation_sat = get_mean(ca_sat_act['sat_pct_participation'])\n",
    "avg_participation_act = get_mean(ca_sat_act['act_pct_participation'])\n",
    "\n",
    "# Average participation is 42.6% for SAT and 25.7% for ACT\n",
    "\n",
    "print(avg_participation_sat)\n",
    "print(avg_participation_act)"
   ]
  },
  {
   "cell_type": "markdown",
   "metadata": {},
   "source": [
    "### Which counties have the bottom benchmark achievement rates for SAT vs ACT?"
   ]
  },
  {
   "cell_type": "code",
   "execution_count": 181,
   "metadata": {},
   "outputs": [],
   "source": [
    "# Comparing the counties with the bottom five lowest SAT and ACT benchmark achievement rates\n",
    "county_low_sat_erw = ca_sat_act.groupby(['county'])['sat_pct_erw_bm'].agg(['mean']).sort_values('mean', ascending = True).head(3)\n",
    "county_low_sat_math = ca_sat_act.groupby(['county'])['sat_pct_math_bm'].agg(['mean']).sort_values('mean', ascending = True).head(3)\n",
    "county_low_sat_bm = ca_sat_act.groupby(['county'])['sat_pct_both_bm'].agg(['mean']).sort_values('mean', ascending = True).head(3)\n",
    "county_low_act_bm = ca_sat_act.groupby(['county'])['pct_act_benchmark'].agg(['mean']).sort_values('mean', ascending = True).head(3)"
   ]
  },
  {
   "cell_type": "code",
   "execution_count": 182,
   "metadata": {},
   "outputs": [
    {
     "data": {
      "text/html": [
       "<div>\n",
       "<style scoped>\n",
       "    .dataframe tbody tr th:only-of-type {\n",
       "        vertical-align: middle;\n",
       "    }\n",
       "\n",
       "    .dataframe tbody tr th {\n",
       "        vertical-align: top;\n",
       "    }\n",
       "\n",
       "    .dataframe thead th {\n",
       "        text-align: right;\n",
       "    }\n",
       "</style>\n",
       "<table border=\"1\" class=\"dataframe\">\n",
       "  <thead>\n",
       "    <tr style=\"text-align: right;\">\n",
       "      <th></th>\n",
       "      <th>mean</th>\n",
       "    </tr>\n",
       "    <tr>\n",
       "      <th>county</th>\n",
       "      <th></th>\n",
       "    </tr>\n",
       "  </thead>\n",
       "  <tbody>\n",
       "    <tr>\n",
       "      <th>Colusa</th>\n",
       "      <td>52.380000</td>\n",
       "    </tr>\n",
       "    <tr>\n",
       "      <th>San Francisco</th>\n",
       "      <td>58.251333</td>\n",
       "    </tr>\n",
       "    <tr>\n",
       "      <th>Kings</th>\n",
       "      <td>58.834000</td>\n",
       "    </tr>\n",
       "  </tbody>\n",
       "</table>\n",
       "</div>"
      ],
      "text/plain": [
       "                    mean\n",
       "county                  \n",
       "Colusa         52.380000\n",
       "San Francisco  58.251333\n",
       "Kings          58.834000"
      ]
     },
     "execution_count": 182,
     "metadata": {},
     "output_type": "execute_result"
    }
   ],
   "source": [
    "# Three counties with lowest ERW SAT benchmark percentages\n",
    "county_low_sat_erw"
   ]
  },
  {
   "cell_type": "code",
   "execution_count": 183,
   "metadata": {},
   "outputs": [
    {
     "data": {
      "text/html": [
       "<div>\n",
       "<style scoped>\n",
       "    .dataframe tbody tr th:only-of-type {\n",
       "        vertical-align: middle;\n",
       "    }\n",
       "\n",
       "    .dataframe tbody tr th {\n",
       "        vertical-align: top;\n",
       "    }\n",
       "\n",
       "    .dataframe thead th {\n",
       "        text-align: right;\n",
       "    }\n",
       "</style>\n",
       "<table border=\"1\" class=\"dataframe\">\n",
       "  <thead>\n",
       "    <tr style=\"text-align: right;\">\n",
       "      <th></th>\n",
       "      <th>mean</th>\n",
       "    </tr>\n",
       "    <tr>\n",
       "      <th>county</th>\n",
       "      <th></th>\n",
       "    </tr>\n",
       "  </thead>\n",
       "  <tbody>\n",
       "    <tr>\n",
       "      <th>Colusa</th>\n",
       "      <td>14.290000</td>\n",
       "    </tr>\n",
       "    <tr>\n",
       "      <th>Merced</th>\n",
       "      <td>30.586667</td>\n",
       "    </tr>\n",
       "    <tr>\n",
       "      <th>Lake</th>\n",
       "      <td>31.110000</td>\n",
       "    </tr>\n",
       "  </tbody>\n",
       "</table>\n",
       "</div>"
      ],
      "text/plain": [
       "             mean\n",
       "county           \n",
       "Colusa  14.290000\n",
       "Merced  30.586667\n",
       "Lake    31.110000"
      ]
     },
     "execution_count": 183,
     "metadata": {},
     "output_type": "execute_result"
    }
   ],
   "source": [
    "# Three counties with lowest Math SAT benchmark percentages\n",
    "# Notable: the lowest math benchmark percentage (14.3%) is substantially lower than the lowest ERW benchmark listed above (52.4%)\n",
    "county_low_sat_math"
   ]
  },
  {
   "cell_type": "code",
   "execution_count": 184,
   "metadata": {},
   "outputs": [
    {
     "data": {
      "text/html": [
       "<div>\n",
       "<style scoped>\n",
       "    .dataframe tbody tr th:only-of-type {\n",
       "        vertical-align: middle;\n",
       "    }\n",
       "\n",
       "    .dataframe tbody tr th {\n",
       "        vertical-align: top;\n",
       "    }\n",
       "\n",
       "    .dataframe thead th {\n",
       "        text-align: right;\n",
       "    }\n",
       "</style>\n",
       "<table border=\"1\" class=\"dataframe\">\n",
       "  <thead>\n",
       "    <tr style=\"text-align: right;\">\n",
       "      <th></th>\n",
       "      <th>mean</th>\n",
       "    </tr>\n",
       "    <tr>\n",
       "      <th>county</th>\n",
       "      <th></th>\n",
       "    </tr>\n",
       "  </thead>\n",
       "  <tbody>\n",
       "    <tr>\n",
       "      <th>Colusa</th>\n",
       "      <td>14.290000</td>\n",
       "    </tr>\n",
       "    <tr>\n",
       "      <th>Merced</th>\n",
       "      <td>27.999167</td>\n",
       "    </tr>\n",
       "    <tr>\n",
       "      <th>Kings</th>\n",
       "      <td>29.228000</td>\n",
       "    </tr>\n",
       "  </tbody>\n",
       "</table>\n",
       "</div>"
      ],
      "text/plain": [
       "             mean\n",
       "county           \n",
       "Colusa  14.290000\n",
       "Merced  27.999167\n",
       "Kings   29.228000"
      ]
     },
     "execution_count": 184,
     "metadata": {},
     "output_type": "execute_result"
    }
   ],
   "source": [
    "# Three counties with lowest overall SAT benchmark percentages\n",
    "county_low_sat_bm"
   ]
  },
  {
   "cell_type": "code",
   "execution_count": 187,
   "metadata": {},
   "outputs": [
    {
     "data": {
      "text/html": [
       "<div>\n",
       "<style scoped>\n",
       "    .dataframe tbody tr th:only-of-type {\n",
       "        vertical-align: middle;\n",
       "    }\n",
       "\n",
       "    .dataframe tbody tr th {\n",
       "        vertical-align: top;\n",
       "    }\n",
       "\n",
       "    .dataframe thead th {\n",
       "        text-align: right;\n",
       "    }\n",
       "</style>\n",
       "<table border=\"1\" class=\"dataframe\">\n",
       "  <thead>\n",
       "    <tr style=\"text-align: right;\">\n",
       "      <th></th>\n",
       "      <th>mean</th>\n",
       "    </tr>\n",
       "    <tr>\n",
       "      <th>county</th>\n",
       "      <th></th>\n",
       "    </tr>\n",
       "  </thead>\n",
       "  <tbody>\n",
       "    <tr>\n",
       "      <th>Colusa</th>\n",
       "      <td>31.250</td>\n",
       "    </tr>\n",
       "    <tr>\n",
       "      <th>Merced</th>\n",
       "      <td>31.355</td>\n",
       "    </tr>\n",
       "    <tr>\n",
       "      <th>Kings</th>\n",
       "      <td>33.216</td>\n",
       "    </tr>\n",
       "  </tbody>\n",
       "</table>\n",
       "</div>"
      ],
      "text/plain": [
       "          mean\n",
       "county        \n",
       "Colusa  31.250\n",
       "Merced  31.355\n",
       "Kings   33.216"
      ]
     },
     "execution_count": 187,
     "metadata": {},
     "output_type": "execute_result"
    }
   ],
   "source": [
    "# Three counties with lowest overall ACT benchmark percentages\n",
    "# Notable: Colusa, Merced, and Kings are listed in the bottom three spots for low benchmark achievement.\n",
    "county_low_act_bm"
   ]
  },
  {
   "cell_type": "code",
   "execution_count": 192,
   "metadata": {},
   "outputs": [
    {
     "data": {
      "text/html": [
       "<div>\n",
       "<style scoped>\n",
       "    .dataframe tbody tr th:only-of-type {\n",
       "        vertical-align: middle;\n",
       "    }\n",
       "\n",
       "    .dataframe tbody tr th {\n",
       "        vertical-align: top;\n",
       "    }\n",
       "\n",
       "    .dataframe thead th {\n",
       "        text-align: right;\n",
       "    }\n",
       "</style>\n",
       "<table border=\"1\" class=\"dataframe\">\n",
       "  <thead>\n",
       "    <tr style=\"text-align: right;\">\n",
       "      <th></th>\n",
       "      <th>snr_enroll</th>\n",
       "      <th>sat_snr_testers</th>\n",
       "      <th>sat_num_erw_bm</th>\n",
       "      <th>sat_pct_erw_bm</th>\n",
       "      <th>sat_num_math_bm</th>\n",
       "      <th>sat_pct_math_bm</th>\n",
       "      <th>sat_num_both_bm</th>\n",
       "      <th>sat_pct_both_bm</th>\n",
       "      <th>act_testers</th>\n",
       "      <th>act_avg_read_scr</th>\n",
       "      <th>act_avg_eng_scr</th>\n",
       "      <th>act_avg_math_scr</th>\n",
       "      <th>act_avg_sci_scr</th>\n",
       "      <th>num_act_benchmark</th>\n",
       "      <th>pct_act_benchmark</th>\n",
       "      <th>sat_pct_participation</th>\n",
       "      <th>act_pct_participation</th>\n",
       "    </tr>\n",
       "  </thead>\n",
       "  <tbody>\n",
       "    <tr>\n",
       "      <th>count</th>\n",
       "      <td>18.000000</td>\n",
       "      <td>18.000000</td>\n",
       "      <td>18.000000</td>\n",
       "      <td>18.000000</td>\n",
       "      <td>18.000000</td>\n",
       "      <td>18.000000</td>\n",
       "      <td>18.000000</td>\n",
       "      <td>18.000000</td>\n",
       "      <td>18.000000</td>\n",
       "      <td>18.000000</td>\n",
       "      <td>18.000000</td>\n",
       "      <td>18.000000</td>\n",
       "      <td>18.000000</td>\n",
       "      <td>18.000000</td>\n",
       "      <td>18.000000</td>\n",
       "      <td>18.000000</td>\n",
       "      <td>18.000000</td>\n",
       "    </tr>\n",
       "    <tr>\n",
       "      <th>mean</th>\n",
       "      <td>282.833333</td>\n",
       "      <td>84.500000</td>\n",
       "      <td>51.888889</td>\n",
       "      <td>59.385000</td>\n",
       "      <td>27.166667</td>\n",
       "      <td>30.112778</td>\n",
       "      <td>24.777778</td>\n",
       "      <td>27.578889</td>\n",
       "      <td>48.666667</td>\n",
       "      <td>19.500000</td>\n",
       "      <td>18.111111</td>\n",
       "      <td>18.444444</td>\n",
       "      <td>19.055556</td>\n",
       "      <td>13.611111</td>\n",
       "      <td>31.866111</td>\n",
       "      <td>30.647042</td>\n",
       "      <td>20.622095</td>\n",
       "    </tr>\n",
       "    <tr>\n",
       "      <th>std</th>\n",
       "      <td>127.185483</td>\n",
       "      <td>39.521029</td>\n",
       "      <td>27.152920</td>\n",
       "      <td>9.775894</td>\n",
       "      <td>15.893950</td>\n",
       "      <td>9.191954</td>\n",
       "      <td>14.318049</td>\n",
       "      <td>8.639124</td>\n",
       "      <td>28.367338</td>\n",
       "      <td>1.581139</td>\n",
       "      <td>1.906302</td>\n",
       "      <td>1.381484</td>\n",
       "      <td>1.211330</td>\n",
       "      <td>7.904867</td>\n",
       "      <td>12.762900</td>\n",
       "      <td>9.554574</td>\n",
       "      <td>16.550597</td>\n",
       "    </tr>\n",
       "    <tr>\n",
       "      <th>min</th>\n",
       "      <td>95.000000</td>\n",
       "      <td>18.000000</td>\n",
       "      <td>9.000000</td>\n",
       "      <td>33.330000</td>\n",
       "      <td>3.000000</td>\n",
       "      <td>14.290000</td>\n",
       "      <td>3.000000</td>\n",
       "      <td>12.700000</td>\n",
       "      <td>16.000000</td>\n",
       "      <td>16.000000</td>\n",
       "      <td>14.000000</td>\n",
       "      <td>15.000000</td>\n",
       "      <td>16.000000</td>\n",
       "      <td>4.000000</td>\n",
       "      <td>3.570000</td>\n",
       "      <td>12.857143</td>\n",
       "      <td>5.373134</td>\n",
       "    </tr>\n",
       "    <tr>\n",
       "      <th>25%</th>\n",
       "      <td>157.250000</td>\n",
       "      <td>52.500000</td>\n",
       "      <td>27.500000</td>\n",
       "      <td>55.400000</td>\n",
       "      <td>14.500000</td>\n",
       "      <td>24.390000</td>\n",
       "      <td>14.500000</td>\n",
       "      <td>18.845000</td>\n",
       "      <td>26.500000</td>\n",
       "      <td>18.250000</td>\n",
       "      <td>17.000000</td>\n",
       "      <td>17.250000</td>\n",
       "      <td>19.000000</td>\n",
       "      <td>8.250000</td>\n",
       "      <td>23.155000</td>\n",
       "      <td>23.962938</td>\n",
       "      <td>11.751259</td>\n",
       "    </tr>\n",
       "    <tr>\n",
       "      <th>50%</th>\n",
       "      <td>302.000000</td>\n",
       "      <td>86.500000</td>\n",
       "      <td>54.500000</td>\n",
       "      <td>61.810000</td>\n",
       "      <td>30.500000</td>\n",
       "      <td>34.380000</td>\n",
       "      <td>27.500000</td>\n",
       "      <td>31.255000</td>\n",
       "      <td>42.500000</td>\n",
       "      <td>20.000000</td>\n",
       "      <td>18.500000</td>\n",
       "      <td>19.000000</td>\n",
       "      <td>19.000000</td>\n",
       "      <td>10.500000</td>\n",
       "      <td>32.550000</td>\n",
       "      <td>29.432106</td>\n",
       "      <td>16.208549</td>\n",
       "    </tr>\n",
       "    <tr>\n",
       "      <th>75%</th>\n",
       "      <td>399.250000</td>\n",
       "      <td>116.750000</td>\n",
       "      <td>70.750000</td>\n",
       "      <td>65.582500</td>\n",
       "      <td>35.500000</td>\n",
       "      <td>37.377500</td>\n",
       "      <td>33.250000</td>\n",
       "      <td>32.955000</td>\n",
       "      <td>67.000000</td>\n",
       "      <td>20.750000</td>\n",
       "      <td>19.750000</td>\n",
       "      <td>19.000000</td>\n",
       "      <td>20.000000</td>\n",
       "      <td>17.000000</td>\n",
       "      <td>42.260000</td>\n",
       "      <td>35.706054</td>\n",
       "      <td>22.751479</td>\n",
       "    </tr>\n",
       "    <tr>\n",
       "      <th>max</th>\n",
       "      <td>474.000000</td>\n",
       "      <td>145.000000</td>\n",
       "      <td>91.000000</td>\n",
       "      <td>71.740000</td>\n",
       "      <td>52.000000</td>\n",
       "      <td>42.730000</td>\n",
       "      <td>45.000000</td>\n",
       "      <td>39.090000</td>\n",
       "      <td>112.000000</td>\n",
       "      <td>22.000000</td>\n",
       "      <td>21.000000</td>\n",
       "      <td>20.000000</td>\n",
       "      <td>21.000000</td>\n",
       "      <td>31.000000</td>\n",
       "      <td>52.940000</td>\n",
       "      <td>49.101796</td>\n",
       "      <td>75.167785</td>\n",
       "    </tr>\n",
       "  </tbody>\n",
       "</table>\n",
       "</div>"
      ],
      "text/plain": [
       "       snr_enroll  sat_snr_testers  sat_num_erw_bm  sat_pct_erw_bm  \\\n",
       "count   18.000000        18.000000       18.000000       18.000000   \n",
       "mean   282.833333        84.500000       51.888889       59.385000   \n",
       "std    127.185483        39.521029       27.152920        9.775894   \n",
       "min     95.000000        18.000000        9.000000       33.330000   \n",
       "25%    157.250000        52.500000       27.500000       55.400000   \n",
       "50%    302.000000        86.500000       54.500000       61.810000   \n",
       "75%    399.250000       116.750000       70.750000       65.582500   \n",
       "max    474.000000       145.000000       91.000000       71.740000   \n",
       "\n",
       "       sat_num_math_bm  sat_pct_math_bm  sat_num_both_bm  sat_pct_both_bm  \\\n",
       "count        18.000000        18.000000        18.000000        18.000000   \n",
       "mean         27.166667        30.112778        24.777778        27.578889   \n",
       "std          15.893950         9.191954        14.318049         8.639124   \n",
       "min           3.000000        14.290000         3.000000        12.700000   \n",
       "25%          14.500000        24.390000        14.500000        18.845000   \n",
       "50%          30.500000        34.380000        27.500000        31.255000   \n",
       "75%          35.500000        37.377500        33.250000        32.955000   \n",
       "max          52.000000        42.730000        45.000000        39.090000   \n",
       "\n",
       "       act_testers  act_avg_read_scr  act_avg_eng_scr  act_avg_math_scr  \\\n",
       "count    18.000000         18.000000        18.000000         18.000000   \n",
       "mean     48.666667         19.500000        18.111111         18.444444   \n",
       "std      28.367338          1.581139         1.906302          1.381484   \n",
       "min      16.000000         16.000000        14.000000         15.000000   \n",
       "25%      26.500000         18.250000        17.000000         17.250000   \n",
       "50%      42.500000         20.000000        18.500000         19.000000   \n",
       "75%      67.000000         20.750000        19.750000         19.000000   \n",
       "max     112.000000         22.000000        21.000000         20.000000   \n",
       "\n",
       "       act_avg_sci_scr  num_act_benchmark  pct_act_benchmark  \\\n",
       "count        18.000000          18.000000          18.000000   \n",
       "mean         19.055556          13.611111          31.866111   \n",
       "std           1.211330           7.904867          12.762900   \n",
       "min          16.000000           4.000000           3.570000   \n",
       "25%          19.000000           8.250000          23.155000   \n",
       "50%          19.000000          10.500000          32.550000   \n",
       "75%          20.000000          17.000000          42.260000   \n",
       "max          21.000000          31.000000          52.940000   \n",
       "\n",
       "       sat_pct_participation  act_pct_participation  \n",
       "count              18.000000              18.000000  \n",
       "mean               30.647042              20.622095  \n",
       "std                 9.554574              16.550597  \n",
       "min                12.857143               5.373134  \n",
       "25%                23.962938              11.751259  \n",
       "50%                29.432106              16.208549  \n",
       "75%                35.706054              22.751479  \n",
       "max                49.101796              75.167785  "
      ]
     },
     "execution_count": 192,
     "metadata": {},
     "output_type": "execute_result"
    }
   ],
   "source": [
    "# When summary statistics of Colusa, Merced, and Kings are compared with the summary statistics of the whole dataset, one can see that score numbers and\n",
    "# benchmark percentages are lower for the subset across the board. \n",
    "ca_sat_act[(ca_sat_act['county'] == 'Colusa') | (ca_sat_act['county'] =='Merced') | (ca_sat_act['county'] == 'Kings')].describe()"
   ]
  },
  {
   "cell_type": "code",
   "execution_count": 193,
   "metadata": {},
   "outputs": [
    {
     "data": {
      "text/html": [
       "<div>\n",
       "<style scoped>\n",
       "    .dataframe tbody tr th:only-of-type {\n",
       "        vertical-align: middle;\n",
       "    }\n",
       "\n",
       "    .dataframe tbody tr th {\n",
       "        vertical-align: top;\n",
       "    }\n",
       "\n",
       "    .dataframe thead th {\n",
       "        text-align: right;\n",
       "    }\n",
       "</style>\n",
       "<table border=\"1\" class=\"dataframe\">\n",
       "  <thead>\n",
       "    <tr style=\"text-align: right;\">\n",
       "      <th></th>\n",
       "      <th>snr_enroll</th>\n",
       "      <th>sat_snr_testers</th>\n",
       "      <th>sat_num_erw_bm</th>\n",
       "      <th>sat_pct_erw_bm</th>\n",
       "      <th>sat_num_math_bm</th>\n",
       "      <th>sat_pct_math_bm</th>\n",
       "      <th>sat_num_both_bm</th>\n",
       "      <th>sat_pct_both_bm</th>\n",
       "      <th>act_testers</th>\n",
       "      <th>act_avg_read_scr</th>\n",
       "      <th>act_avg_eng_scr</th>\n",
       "      <th>act_avg_math_scr</th>\n",
       "      <th>act_avg_sci_scr</th>\n",
       "      <th>num_act_benchmark</th>\n",
       "      <th>pct_act_benchmark</th>\n",
       "      <th>sat_pct_participation</th>\n",
       "      <th>act_pct_participation</th>\n",
       "    </tr>\n",
       "  </thead>\n",
       "  <tbody>\n",
       "    <tr>\n",
       "      <th>count</th>\n",
       "      <td>994.000000</td>\n",
       "      <td>994.000000</td>\n",
       "      <td>994.000000</td>\n",
       "      <td>994.000000</td>\n",
       "      <td>994.000000</td>\n",
       "      <td>994.000000</td>\n",
       "      <td>994.000000</td>\n",
       "      <td>994.000000</td>\n",
       "      <td>994.000000</td>\n",
       "      <td>994.000000</td>\n",
       "      <td>994.000000</td>\n",
       "      <td>994.000000</td>\n",
       "      <td>994.000000</td>\n",
       "      <td>994.000000</td>\n",
       "      <td>994.000000</td>\n",
       "      <td>994.000000</td>\n",
       "      <td>994.000000</td>\n",
       "    </tr>\n",
       "    <tr>\n",
       "      <th>mean</th>\n",
       "      <td>378.568410</td>\n",
       "      <td>154.190141</td>\n",
       "      <td>108.097586</td>\n",
       "      <td>69.362264</td>\n",
       "      <td>77.104628</td>\n",
       "      <td>47.948008</td>\n",
       "      <td>73.085513</td>\n",
       "      <td>45.418581</td>\n",
       "      <td>79.804829</td>\n",
       "      <td>21.970825</td>\n",
       "      <td>21.127767</td>\n",
       "      <td>21.358149</td>\n",
       "      <td>21.275654</td>\n",
       "      <td>44.431590</td>\n",
       "      <td>51.965211</td>\n",
       "      <td>42.607927</td>\n",
       "      <td>25.745284</td>\n",
       "    </tr>\n",
       "    <tr>\n",
       "      <th>std</th>\n",
       "      <td>203.294051</td>\n",
       "      <td>106.967845</td>\n",
       "      <td>77.343908</td>\n",
       "      <td>19.540747</td>\n",
       "      <td>65.322202</td>\n",
       "      <td>23.094454</td>\n",
       "      <td>63.211308</td>\n",
       "      <td>23.196394</td>\n",
       "      <td>66.933059</td>\n",
       "      <td>3.778104</td>\n",
       "      <td>4.151799</td>\n",
       "      <td>3.465918</td>\n",
       "      <td>3.294915</td>\n",
       "      <td>50.358112</td>\n",
       "      <td>26.250022</td>\n",
       "      <td>18.206953</td>\n",
       "      <td>23.558859</td>\n",
       "    </tr>\n",
       "    <tr>\n",
       "      <th>min</th>\n",
       "      <td>34.000000</td>\n",
       "      <td>15.000000</td>\n",
       "      <td>4.000000</td>\n",
       "      <td>10.640000</td>\n",
       "      <td>0.000000</td>\n",
       "      <td>0.000000</td>\n",
       "      <td>0.000000</td>\n",
       "      <td>0.000000</td>\n",
       "      <td>15.000000</td>\n",
       "      <td>13.000000</td>\n",
       "      <td>11.000000</td>\n",
       "      <td>15.000000</td>\n",
       "      <td>14.000000</td>\n",
       "      <td>0.000000</td>\n",
       "      <td>0.000000</td>\n",
       "      <td>12.297735</td>\n",
       "      <td>2.203857</td>\n",
       "    </tr>\n",
       "    <tr>\n",
       "      <th>25%</th>\n",
       "      <td>193.250000</td>\n",
       "      <td>76.000000</td>\n",
       "      <td>47.000000</td>\n",
       "      <td>54.905000</td>\n",
       "      <td>28.000000</td>\n",
       "      <td>29.745000</td>\n",
       "      <td>26.000000</td>\n",
       "      <td>26.737500</td>\n",
       "      <td>33.250000</td>\n",
       "      <td>19.000000</td>\n",
       "      <td>18.000000</td>\n",
       "      <td>19.000000</td>\n",
       "      <td>19.000000</td>\n",
       "      <td>13.000000</td>\n",
       "      <td>29.350000</td>\n",
       "      <td>30.445906</td>\n",
       "      <td>11.609739</td>\n",
       "    </tr>\n",
       "    <tr>\n",
       "      <th>50%</th>\n",
       "      <td>386.000000</td>\n",
       "      <td>132.000000</td>\n",
       "      <td>91.000000</td>\n",
       "      <td>72.110000</td>\n",
       "      <td>58.000000</td>\n",
       "      <td>46.905000</td>\n",
       "      <td>55.000000</td>\n",
       "      <td>43.805000</td>\n",
       "      <td>59.000000</td>\n",
       "      <td>22.000000</td>\n",
       "      <td>21.000000</td>\n",
       "      <td>21.000000</td>\n",
       "      <td>21.000000</td>\n",
       "      <td>25.000000</td>\n",
       "      <td>53.680000</td>\n",
       "      <td>38.048937</td>\n",
       "      <td>19.092155</td>\n",
       "    </tr>\n",
       "    <tr>\n",
       "      <th>75%</th>\n",
       "      <td>526.000000</td>\n",
       "      <td>199.000000</td>\n",
       "      <td>151.000000</td>\n",
       "      <td>86.132500</td>\n",
       "      <td>110.000000</td>\n",
       "      <td>66.670000</td>\n",
       "      <td>104.000000</td>\n",
       "      <td>63.730000</td>\n",
       "      <td>105.750000</td>\n",
       "      <td>25.000000</td>\n",
       "      <td>24.000000</td>\n",
       "      <td>24.000000</td>\n",
       "      <td>24.000000</td>\n",
       "      <td>55.000000</td>\n",
       "      <td>75.000000</td>\n",
       "      <td>48.825975</td>\n",
       "      <td>29.809935</td>\n",
       "    </tr>\n",
       "    <tr>\n",
       "      <th>max</th>\n",
       "      <td>1135.000000</td>\n",
       "      <td>932.000000</td>\n",
       "      <td>475.000000</td>\n",
       "      <td>100.000000</td>\n",
       "      <td>390.000000</td>\n",
       "      <td>98.980000</td>\n",
       "      <td>385.000000</td>\n",
       "      <td>98.750000</td>\n",
       "      <td>512.000000</td>\n",
       "      <td>32.000000</td>\n",
       "      <td>32.000000</td>\n",
       "      <td>32.000000</td>\n",
       "      <td>31.000000</td>\n",
       "      <td>392.000000</td>\n",
       "      <td>100.000000</td>\n",
       "      <td>102.222222</td>\n",
       "      <td>232.307692</td>\n",
       "    </tr>\n",
       "  </tbody>\n",
       "</table>\n",
       "</div>"
      ],
      "text/plain": [
       "        snr_enroll  sat_snr_testers  sat_num_erw_bm  sat_pct_erw_bm  \\\n",
       "count   994.000000       994.000000      994.000000      994.000000   \n",
       "mean    378.568410       154.190141      108.097586       69.362264   \n",
       "std     203.294051       106.967845       77.343908       19.540747   \n",
       "min      34.000000        15.000000        4.000000       10.640000   \n",
       "25%     193.250000        76.000000       47.000000       54.905000   \n",
       "50%     386.000000       132.000000       91.000000       72.110000   \n",
       "75%     526.000000       199.000000      151.000000       86.132500   \n",
       "max    1135.000000       932.000000      475.000000      100.000000   \n",
       "\n",
       "       sat_num_math_bm  sat_pct_math_bm  sat_num_both_bm  sat_pct_both_bm  \\\n",
       "count       994.000000       994.000000       994.000000       994.000000   \n",
       "mean         77.104628        47.948008        73.085513        45.418581   \n",
       "std          65.322202        23.094454        63.211308        23.196394   \n",
       "min           0.000000         0.000000         0.000000         0.000000   \n",
       "25%          28.000000        29.745000        26.000000        26.737500   \n",
       "50%          58.000000        46.905000        55.000000        43.805000   \n",
       "75%         110.000000        66.670000       104.000000        63.730000   \n",
       "max         390.000000        98.980000       385.000000        98.750000   \n",
       "\n",
       "       act_testers  act_avg_read_scr  act_avg_eng_scr  act_avg_math_scr  \\\n",
       "count   994.000000        994.000000       994.000000        994.000000   \n",
       "mean     79.804829         21.970825        21.127767         21.358149   \n",
       "std      66.933059          3.778104         4.151799          3.465918   \n",
       "min      15.000000         13.000000        11.000000         15.000000   \n",
       "25%      33.250000         19.000000        18.000000         19.000000   \n",
       "50%      59.000000         22.000000        21.000000         21.000000   \n",
       "75%     105.750000         25.000000        24.000000         24.000000   \n",
       "max     512.000000         32.000000        32.000000         32.000000   \n",
       "\n",
       "       act_avg_sci_scr  num_act_benchmark  pct_act_benchmark  \\\n",
       "count       994.000000         994.000000         994.000000   \n",
       "mean         21.275654          44.431590          51.965211   \n",
       "std           3.294915          50.358112          26.250022   \n",
       "min          14.000000           0.000000           0.000000   \n",
       "25%          19.000000          13.000000          29.350000   \n",
       "50%          21.000000          25.000000          53.680000   \n",
       "75%          24.000000          55.000000          75.000000   \n",
       "max          31.000000         392.000000         100.000000   \n",
       "\n",
       "       sat_pct_participation  act_pct_participation  \n",
       "count             994.000000             994.000000  \n",
       "mean               42.607927              25.745284  \n",
       "std                18.206953              23.558859  \n",
       "min                12.297735               2.203857  \n",
       "25%                30.445906              11.609739  \n",
       "50%                38.048937              19.092155  \n",
       "75%                48.825975              29.809935  \n",
       "max               102.222222             232.307692  "
      ]
     },
     "execution_count": 193,
     "metadata": {},
     "output_type": "execute_result"
    }
   ],
   "source": [
    "ca_sat_act.describe()"
   ]
  },
  {
   "cell_type": "markdown",
   "metadata": {},
   "source": [
    "### How do the summary statistics for the number of ACT testers vs SAT testers compare?"
   ]
  },
  {
   "cell_type": "code",
   "execution_count": 170,
   "metadata": {},
   "outputs": [
    {
     "data": {
      "text/plain": [
       "count    994.000000\n",
       "mean      79.804829\n",
       "std       66.933059\n",
       "min       15.000000\n",
       "25%       33.250000\n",
       "50%       59.000000\n",
       "75%      105.750000\n",
       "max      512.000000\n",
       "Name: act_testers, dtype: float64"
      ]
     },
     "execution_count": 170,
     "metadata": {},
     "output_type": "execute_result"
    }
   ],
   "source": [
    "# Summary stats for ACT Testers across CA schools\n",
    "ca_sat_act['act_testers'].describe()"
   ]
  },
  {
   "cell_type": "code",
   "execution_count": 194,
   "metadata": {},
   "outputs": [
    {
     "data": {
      "text/plain": [
       "count    994.000000\n",
       "mean     154.190141\n",
       "std      106.967845\n",
       "min       15.000000\n",
       "25%       76.000000\n",
       "50%      132.000000\n",
       "75%      199.000000\n",
       "max      932.000000\n",
       "Name: sat_snr_testers, dtype: float64"
      ]
     },
     "execution_count": 194,
     "metadata": {},
     "output_type": "execute_result"
    }
   ],
   "source": [
    "# Summary stats for SAT Testers across CA schools\n",
    "ca_sat_act['sat_snr_testers'].describe()"
   ]
  },
  {
   "cell_type": "markdown",
   "metadata": {},
   "source": [
    "### How do the summary statistics for the ACT and SAT participation percentages compare?"
   ]
  },
  {
   "cell_type": "code",
   "execution_count": 173,
   "metadata": {},
   "outputs": [
    {
     "data": {
      "text/plain": [
       "count    994.000000\n",
       "mean      42.607927\n",
       "std       18.206953\n",
       "min       12.297735\n",
       "25%       30.445906\n",
       "50%       38.048937\n",
       "75%       48.825975\n",
       "max      102.222222\n",
       "Name: sat_pct_participation, dtype: float64"
      ]
     },
     "execution_count": 173,
     "metadata": {},
     "output_type": "execute_result"
    }
   ],
   "source": [
    "# Summary stats for SAT participation percentages across CA schools\n",
    "ca_sat_act['sat_pct_participation'].describe()"
   ]
  },
  {
   "cell_type": "code",
   "execution_count": 196,
   "metadata": {},
   "outputs": [
    {
     "data": {
      "text/plain": [
       "count    994.000000\n",
       "mean      25.745284\n",
       "std       23.558859\n",
       "min        2.203857\n",
       "25%       11.609739\n",
       "50%       19.092155\n",
       "75%       29.809935\n",
       "max      232.307692\n",
       "Name: act_pct_participation, dtype: float64"
      ]
     },
     "execution_count": 196,
     "metadata": {},
     "output_type": "execute_result"
    }
   ],
   "source": [
    "# Summary stats for ACT participation percentages across CA schools\n",
    "ca_sat_act['act_pct_participation'].describe()"
   ]
  },
  {
   "cell_type": "markdown",
   "metadata": {},
   "source": [
    "### What's the mean of CA seniors who pass the SAT benchmarks for ERW, Math, and both? How about the mean of CA seniors who pass the ACT overall benchmark?"
   ]
  },
  {
   "cell_type": "code",
   "execution_count": 198,
   "metadata": {},
   "outputs": [
    {
     "name": "stdout",
     "output_type": "stream",
     "text": [
      "69.36226358148892\n",
      "47.94800804828966\n",
      "45.41858148893364\n",
      "51.9652112676056\n"
     ]
    }
   ],
   "source": [
    "# Calculating mean % of CA seniors who pass the SAT benchmarks for ERW, Math, and both, as well as ACT overall benchmark\n",
    "\n",
    "sat_mean_erw_bm = (get_mean(ca_sat_act['sat_pct_erw_bm']))\n",
    "sat_mean_math_bm = (get_mean(ca_sat_act['sat_pct_math_bm']))\n",
    "sat_mean_both_bm = (get_mean(ca_sat_act['sat_pct_both_bm']))\n",
    "act_mean_both_bm = (get_mean(ca_sat_act['pct_act_benchmark']))\n",
    "print(sat_mean_erw_bm)\n",
    "print(sat_mean_math_bm)\n",
    "print(sat_mean_both_bm)\n",
    "print(act_mean_both_bm)"
   ]
  },
  {
   "cell_type": "markdown",
   "metadata": {},
   "source": [
    "## Visualize the Data"
   ]
  },
  {
   "cell_type": "markdown",
   "metadata": {},
   "source": [
    "There's not a magic bullet recommendation for the right number of plots to understand a given dataset, but visualizing your data is *always* a good idea. Not only does it allow you to quickly convey your findings (even if you have a non-technical audience), it will often reveal trends in your data that escaped you when you were looking only at numbers. It is important to not only create visualizations, but to **interpret your visualizations** as well.\n",
    "\n",
    "**Every plot should**:\n",
    "- Have a title\n",
    "- Have axis labels\n",
    "- Have appropriate tick labels\n",
    "- Text is legible in a plot\n",
    "- Plots demonstrate meaningful and valid relationships\n",
    "- Have an interpretation to aid understanding\n",
    "\n",
    "Here is an example of what your plots should look like following the above guidelines. Note that while the content of this example is unrelated, the principles of visualization hold:\n",
    "\n",
    "![](https://snag.gy/hCBR1U.jpg)\n",
    "*Interpretation: The above image shows that as we increase our spending on advertising, our sales numbers also tend to increase. There is a positive correlation between advertising spending and sales.*\n",
    "\n",
    "---\n",
    "\n",
    "Here are some prompts to get you started with visualizations. Feel free to add additional visualizations as you see fit:\n",
    "1. Use Seaborn's heatmap with pandas `.corr()` to visualize correlations between all numeric features.\n",
    "    - Heatmaps are generally not appropriate for presentations, and should often be excluded from reports as they can be visually overwhelming. **However**, they can be extremely useful in identify relationships of potential interest (as well as identifying potential collinearity before modeling).\n",
    "    - Please take time to format your output, adding a title. Look through some of the additional arguments and options. (Axis labels aren't really necessary, as long as the title is informative).\n",
    "2. Visualize distributions using histograms. If you have a lot, consider writing a custom function and use subplots.\n",
    "    - *OPTIONAL*: Summarize the underlying distributions of your features (in words & statistics)\n",
    "         - Be thorough in your verbal description of these distributions.\n",
    "         - Be sure to back up these summaries with statistics.\n",
    "         - We generally assume that data we sample from a population will be normally distributed. Do we observe this trend? Explain your answers for each distribution and how you think this will affect estimates made from these data.\n",
    "3. Plot and interpret boxplots. \n",
    "    - Boxplots demonstrate central tendency and spread in variables. In a certain sense, these are somewhat redundant with histograms, but you may be better able to identify clear outliers or differences in IQR, etc.\n",
    "    - Multiple values can be plotted to a single boxplot as long as they are of the same relative scale (meaning they have similar min/max values).\n",
    "    - Each boxplot should:\n",
    "        - Only include variables of a similar scale\n",
    "        - Have clear labels for each variable\n",
    "        - Have appropriate titles and labels\n",
    "4. Plot and interpret scatter plots to view relationships between features. Feel free to write a custom function, and subplot if you'd like. Functions save both time and space.\n",
    "    - Your plots should have:\n",
    "        - Two clearly labeled axes\n",
    "        - A proper title\n",
    "        - Colors and symbols that are clear and unmistakable\n",
    "5. Additional plots of your choosing.\n",
    "    - Are there any additional trends or relationships you haven't explored? Was there something interesting you saw that you'd like to dive further into? It's likely that there are a few more plots you might want to generate to support your narrative and recommendations that you are building toward. **As always, make sure you're interpreting your plots as you go**."
   ]
  },
  {
   "cell_type": "code",
   "execution_count": 69,
   "metadata": {},
   "outputs": [
    {
     "data": {
      "image/png": "[encoded data removed]",
      "text/plain": [
       "<Figure size 936x936 with 2 Axes>"
      ]
     },
     "metadata": {
      "needs_background": "light"
     },
     "output_type": "display_data"
    }
   ],
   "source": [
    "# Creating a heatmap to analyze correlation levels between columns\n",
    "corr = ca_sat_act.corr()\n",
    "plt.figure(figsize=(13, 13))\n",
    "heatmap = sns.heatmap(corr,\n",
    "                     vmin=-1, vmax=1, center=0, \n",
    "                     cmap='winter',\n",
    "                      square=True,\n",
    "                      annot=True\n",
    "                     )\n",
    "heatmap.set_xticklabels(\n",
    "        heatmap.get_xticklabels(),\n",
    "        rotation=45,\n",
    "        horizontalalignment='right')\n",
    "plt.title('Correlation Levels Between Columns in the California SAT/ACT Dataset');"
   ]
  },
  {
   "cell_type": "markdown",
   "metadata": {},
   "source": [
    "[Source for heatmap](https://towardsdatascience.com/better-heatmaps-and-correlation-matrix-plots-in-python-41445d0f2bec)"
   ]
  },
  {
   "cell_type": "code",
   "execution_count": 70,
   "metadata": {},
   "outputs": [
    {
     "data": {
      "image/png": "[encoded data removed]",
      "text/plain": [
       "<Figure size 1152x648 with 2 Axes>"
      ]
     },
     "metadata": {
      "needs_background": "light"
     },
     "output_type": "display_data"
    }
   ],
   "source": [
    "# Establish figure size.\n",
    "plt.figure(figsize = (16,9))\n",
    "\n",
    "# plt.subplot(211) means we have 2 rows, 1 column, and are referencing plot 1.\n",
    "ax1 = plt.subplot(211)\n",
    "ax1.hist(ca_sat_act['sat_pct_participation'], range=(0, 100))\n",
    "ax1.set_title('SAT Participation Rates Across California')\n",
    "\n",
    "# plt.subplot(212) means we have 2 rows, 1 column, and are referencing plot 2.\n",
    "ax2 = plt.subplot(212, sharex=ax1)\n",
    "ax2.hist(ca_sat_act['act_pct_participation'], range=(0, 100))\n",
    "ax2.set_title('ACT Participation Rates Across California');\n"
   ]
  },
  {
   "cell_type": "markdown",
   "metadata": {},
   "source": [
    "The frequency for ACT participation rates across CA schools skews to the left of the frequency for SAT participation rates. These histograms indicate that CA schools enroll more of their senior students in the SAT than in the ACT. "
   ]
  },
  {
   "cell_type": "code",
   "execution_count": 73,
   "metadata": {},
   "outputs": [
    {
     "data": {
      "image/png": "[encoded data removed]",
      "text/plain": [
       "<Figure size 432x288 with 1 Axes>"
      ]
     },
     "metadata": {
      "needs_background": "light"
     },
     "output_type": "display_data"
    }
   ],
   "source": [
    "sns.boxplot(x=ca_sat_act['pct_act_benchmark']).set(xlabel='ACT Benchmark %')\n",
    "plt.title('Percent of CA Seniors Who Passed ACT Benchmark Score, 2018-19');"
   ]
  },
  {
   "cell_type": "code",
   "execution_count": 74,
   "metadata": {},
   "outputs": [
    {
     "data": {
      "image/png": "[encoded data removed]",
      "text/plain": [
       "<Figure size 432x288 with 1 Axes>"
      ]
     },
     "metadata": {
      "needs_background": "light"
     },
     "output_type": "display_data"
    }
   ],
   "source": [
    "sns.boxplot(x=ca_sat_act['sat_pct_both_bm']).set(xlabel='SAT Benchmark %')\n",
    "plt.title('Percent of CA Seniors Who Passed SAT Benchmark Score, 2018-19');"
   ]
  },
  {
   "cell_type": "markdown",
   "metadata": {},
   "source": [
    "The boxplots show that the percentage of CA seniors who pass the SAT benchmark skews slightly to the left of the percentage of CA seniors who pass the ACT benchmark. The SAT median is 43.8% vs 53.7% for the ACT median, and the SAT's Q1/Q3 values are also smaller than the ACT's Q1/Q3 values (more details in describe() functions below). One may infer from this data that CA seniors would typically score slightly better on the ACT than on the SAT, which is notable since ACT has the lower participation rate of the two tests. "
   ]
  },
  {
   "cell_type": "markdown",
   "metadata": {},
   "source": [
    "s"
   ]
  },
  {
   "cell_type": "code",
   "execution_count": 77,
   "metadata": {},
   "outputs": [
    {
     "data": {
      "image/png": "[encoded data removed]",
      "text/plain": [
       "<Figure size 432x288 with 1 Axes>"
      ]
     },
     "metadata": {
      "needs_background": "light"
     },
     "output_type": "display_data"
    }
   ],
   "source": [
    "sat_act_bm_avgs = ['SAT ERW', 'SAT Math', 'SAT (all sections)', 'ACT (all sections)']\n",
    "sat_act_means = [sat_mean_erw_bm, sat_mean_math_bm, sat_mean_both_bm, act_mean_both_bm]\n",
    "\n",
    "plt.bar(x=sat_act_bm_avgs, height=sat_act_means)\n",
    "plt.xticks(rotation=45)\n",
    "plt.title('Rate of CA Seniors Passing Benchmark Scores by Section');"
   ]
  },
  {
   "cell_type": "markdown",
   "metadata": {},
   "source": [
    "The 'ACT (all sections)' column is higher than the 'SAT (all sections)' column. This fact, when combined with the earlier observation that the average ACT participation rate is substantially lower than the average SAT participation rate (25.7% to 42.6%, respectively), suggests that CA schools should push for higher ACT participation rates."
   ]
  },
  {
   "cell_type": "markdown",
   "metadata": {},
   "source": [
    "Additionally, there's a significant disparity between the SAT ERW and Math columns -- 69.4% of CA seniors are passing the ERW benchmark, while only 47.9% are passing the Math benchmark. This disparity suggests that CA seniors are not as well prepared for SAT Math as they are for SAT ERW and that, in general, California should adjust their educational resources to place a higher emphasis on improved math curricula for its students. "
   ]
  },
  {
   "cell_type": "code",
   "execution_count": 78,
   "metadata": {},
   "outputs": [
    {
     "data": {
      "image/png": "[encoded data removed]",
      "text/plain": [
       "<Figure size 432x288 with 1 Axes>"
      ]
     },
     "metadata": {
      "needs_background": "light"
     },
     "output_type": "display_data"
    }
   ],
   "source": [
    "act_avg_scores = ['ACT Reading', 'ACT English', 'ACT Math', 'ACT Science']\n",
    "\n",
    "plt.bar(x=act_avg_scores, height=[get_mean(ca_sat_act['act_avg_read_scr']), get_mean(ca_sat_act['act_avg_eng_scr']), get_mean(ca_sat_act['act_avg_math_scr']), get_mean(ca_sat_act['act_avg_sci_scr'])])\n",
    "plt.xticks(rotation=45)\n",
    "plt.title('CA Seniors Average ACT Score by Section');"
   ]
  },
  {
   "cell_type": "markdown",
   "metadata": {},
   "source": [
    "The above graph shows insignificant variation between average ACT scores by section. Notably, CA seniors scored about as well in the ACT Math section as they did in other ACT sections, while the average score for Math on the SAT was\n",
    "substantially lower than the SAT ERW average score. This finding suggests the ACT Math section is less difficult for CA seniors than the SAT Math section, which adds to the argument for why California should encourage increased ACT participation in its schools. "
   ]
  },
  {
   "cell_type": "code",
   "execution_count": 79,
   "metadata": {},
   "outputs": [
    {
     "data": {
      "image/png": "[encoded data removed]",
      "text/plain": [
       "<Figure size 360x360 with 1 Axes>"
      ]
     },
     "metadata": {
      "needs_background": "light"
     },
     "output_type": "display_data"
    }
   ],
   "source": [
    "plt.figure(figsize=(5, 5))\n",
    "sns.scatterplot(\n",
    "    x='pct_act_benchmark',\n",
    "    y='sat_pct_both_bm',\n",
    "    data = ca_sat_act \n",
    ").set(xlabel='ACT Benchmark %', ylabel='SAT Benchmark %')\n",
    "plt.title('Correlation Between Benchmark Rates for SAT and ACT');"
   ]
  },
  {
   "cell_type": "markdown",
   "metadata": {},
   "source": [
    "The above scatter plot shows a strong positive correlation between the percentage of CA seniors who passed the overall benchmark score for SAT and the percentage who passed the overall benchmark score for ACT. The correlation demonstrates that if CA seniors do well in one test, they're more likely to do well in the other one too.  "
   ]
  },
  {
   "cell_type": "markdown",
   "metadata": {},
   "source": [
    "## Conclusion"
   ]
  },
  {
   "cell_type": "markdown",
   "metadata": {},
   "source": [
    "#### Key Takeaways:\n",
    "* ACT participation is much lower than that of the SAT in CA, which shows there's ample room for growth for ACT participation numbers\n",
    "* CA seniors in 2018-19 performed slightly better on the ACT than on the SAT overall in terms of the percent who reached a benchmark score. \n",
    "* Students struggled more with SAT Math than with ACT Math when compared proportionately to those tests’ other sections\n",
    "\n",
    "#### Recommendation:\n",
    "The California Department of Education should invest more of its resources on increasing ACT testing in schools across the state. This change will likely raise overall benchmark achievement rates for its seniors. "
   ]
  },
  {
   "cell_type": "code",
   "execution_count": null,
   "metadata": {},
   "outputs": [],
   "source": []
  }
 ],
 "metadata": {
  "anaconda-cloud": {},
  "kernelspec": {
   "display_name": "Python 3",
   "language": "python",
   "name": "python3"
  },
  "language_info": {
   "codemirror_mode": {
    "name": "ipython",
    "version": 3
   },
   "file_extension": ".py",
   "mimetype": "text/x-python",
   "name": "python",
   "nbconvert_exporter": "python",
   "pygments_lexer": "ipython3",
   "version": "3.8.3"
  }
 },
 "nbformat": 4,
 "nbformat_minor": 4
}
